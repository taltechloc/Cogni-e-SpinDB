{
 "cells": [
  {
   "cell_type": "code",
   "execution_count": 4,
   "id": "6e019ba7",
   "metadata": {},
   "outputs": [],
   "source": [
    "import numpy as np\n",
    "import pandas as pd\n",
    "import matplotlib.pyplot as plt\n",
    "from sklearn.model_selection import KFold\n",
    "from sklearn.metrics import mean_squared_error, mean_absolute_error, r2_score\n",
    "from sklearn.ensemble import RandomForestRegressor\n",
    "from catboost import CatBoostRegressor"
   ]
  },
  {
   "cell_type": "code",
   "execution_count": 5,
   "id": "c4baed30",
   "metadata": {},
   "outputs": [
    {
     "data": {
      "application/vnd.microsoft.datawrangler.viewer.v0+json": {
       "columns": [
        {
         "name": "index",
         "rawType": "int64",
         "type": "integer"
        },
        {
         "name": "doi",
         "rawType": "object",
         "type": "string"
        },
        {
         "name": "polymer(s)",
         "rawType": "object",
         "type": "string"
        },
        {
         "name": "is_solvent_blend",
         "rawType": "bool",
         "type": "boolean"
        },
        {
         "name": "solvent(s)",
         "rawType": "object",
         "type": "string"
        },
        {
         "name": "solvent_components",
         "rawType": "object",
         "type": "string"
        },
        {
         "name": "solution_concentration",
         "rawType": "float64",
         "type": "float"
        },
        {
         "name": "solution_concentration_unit",
         "rawType": "object",
         "type": "string"
        },
        {
         "name": "needle_type",
         "rawType": "object",
         "type": "string"
        },
        {
         "name": "needle_diameter_g",
         "rawType": "float64",
         "type": "float"
        },
        {
         "name": "collector_type",
         "rawType": "object",
         "type": "string"
        },
        {
         "name": "rotation_speed_rpm",
         "rawType": "float64",
         "type": "float"
        },
        {
         "name": "voltage_kv",
         "rawType": "float64",
         "type": "float"
        },
        {
         "name": "flow_rate_ml/h",
         "rawType": "float64",
         "type": "float"
        },
        {
         "name": "tip_collector_distance_cm",
         "rawType": "float64",
         "type": "float"
        },
        {
         "name": "temperature_c",
         "rawType": "float64",
         "type": "float"
        },
        {
         "name": "humidity_%",
         "rawType": "object",
         "type": "string"
        },
        {
         "name": "was_formation_stable",
         "rawType": "bool",
         "type": "boolean"
        },
        {
         "name": "fiber_diameter_nm",
         "rawType": "float64",
         "type": "float"
        },
        {
         "name": "fiber_diameter_variation_nm",
         "rawType": "float64",
         "type": "float"
        },
        {
         "name": "tail_observation",
         "rawType": "bool",
         "type": "boolean"
        }
       ],
       "ref": "2ad05c1c-83cc-40cd-bbd3-4b3064576c6b",
       "rows": [
        [
         "0",
         "https://doi.org/10.1016/j.jafr.2019.100015",
         "CA",
         "False",
         "ACETONE",
         "[{\"solventName\": \"ACETONE\", \"weight\": null, \"weightUnit\": \"gram\", \"volumeRatio\": 100.0, \"volumeRatioUnit\": \"v/v\"}]",
         "15.0",
         "wt%",
         "Single Needle",
         "22.0",
         "Flat",
         null,
         "12.0",
         "2.0",
         "6.0",
         "23.0",
         "45",
         "True",
         "1346.0",
         "812.0",
         "True"
        ],
        [
         "1",
         "https://doi.org/10.1016/j.jafr.2019.100015",
         "CA",
         "False",
         "ACETONE",
         "[{\"solventName\": \"ACETONE\", \"weight\": null, \"weightUnit\": \"gram\", \"volumeRatio\": 100.0, \"volumeRatioUnit\": \"v/v\"}]",
         "12.0",
         "wt%",
         "Single Needle",
         "22.0",
         "Flat",
         null,
         "16.0",
         "2.0",
         "6.0",
         "23.0",
         "45",
         "True",
         "488.0",
         "221.0",
         "False"
        ],
        [
         "2",
         "https://doi.org/10.1016/j.jafr.2019.100015",
         "CA",
         "False",
         "ACETONE",
         "[{\"solventName\": \"ACETONE\", \"weight\": null, \"weightUnit\": \"gram\", \"volumeRatio\": 100.0, \"volumeRatioUnit\": \"v/v\"}]",
         "15.0",
         "wt%",
         "Single Needle",
         "22.0",
         "Flat",
         null,
         "16.0",
         "2.0",
         "10.0",
         "23.0",
         "45",
         "True",
         "823.0",
         "519.0",
         "False"
        ],
        [
         "3",
         "https://doi.org/10.1016/j.jafr.2019.100015",
         "CA",
         "False",
         "ACETONE",
         "[{\"solventName\": \"ACETONE\", \"weight\": null, \"weightUnit\": \"gram\", \"volumeRatio\": 100.0, \"volumeRatioUnit\": \"v/v\"}]",
         "9.0",
         "wt%",
         "Single Needle",
         "22.0",
         "Flat",
         null,
         "12.0",
         "2.0",
         "6.0",
         "23.0",
         "45",
         "True",
         "452.0",
         "236.0",
         "False"
        ],
        [
         "4",
         "https://doi.org/10.1016/j.jafr.2019.100015",
         "CA",
         "False",
         "ACETONE",
         "[{\"solventName\": \"ACETONE\", \"weight\": null, \"weightUnit\": \"gram\", \"volumeRatio\": 100.0, \"volumeRatioUnit\": \"v/v\"}]",
         "12.0",
         "wt%",
         "Single Needle",
         "22.0",
         "Flat",
         null,
         "12.0",
         "2.0",
         "10.0",
         "23.0",
         "45",
         "True",
         "801.0",
         "382.0",
         "False"
        ]
       ],
       "shape": {
        "columns": 20,
        "rows": 5
       }
      },
      "text/html": [
       "<div>\n",
       "<style scoped>\n",
       "    .dataframe tbody tr th:only-of-type {\n",
       "        vertical-align: middle;\n",
       "    }\n",
       "\n",
       "    .dataframe tbody tr th {\n",
       "        vertical-align: top;\n",
       "    }\n",
       "\n",
       "    .dataframe thead th {\n",
       "        text-align: right;\n",
       "    }\n",
       "</style>\n",
       "<table border=\"1\" class=\"dataframe\">\n",
       "  <thead>\n",
       "    <tr style=\"text-align: right;\">\n",
       "      <th></th>\n",
       "      <th>doi</th>\n",
       "      <th>polymer(s)</th>\n",
       "      <th>is_solvent_blend</th>\n",
       "      <th>solvent(s)</th>\n",
       "      <th>solvent_components</th>\n",
       "      <th>solution_concentration</th>\n",
       "      <th>solution_concentration_unit</th>\n",
       "      <th>needle_type</th>\n",
       "      <th>needle_diameter_g</th>\n",
       "      <th>collector_type</th>\n",
       "      <th>rotation_speed_rpm</th>\n",
       "      <th>voltage_kv</th>\n",
       "      <th>flow_rate_ml/h</th>\n",
       "      <th>tip_collector_distance_cm</th>\n",
       "      <th>temperature_c</th>\n",
       "      <th>humidity_%</th>\n",
       "      <th>was_formation_stable</th>\n",
       "      <th>fiber_diameter_nm</th>\n",
       "      <th>fiber_diameter_variation_nm</th>\n",
       "      <th>tail_observation</th>\n",
       "    </tr>\n",
       "  </thead>\n",
       "  <tbody>\n",
       "    <tr>\n",
       "      <th>0</th>\n",
       "      <td>https://doi.org/10.1016/j.jafr.2019.100015</td>\n",
       "      <td>CA</td>\n",
       "      <td>False</td>\n",
       "      <td>ACETONE</td>\n",
       "      <td>[{\"solventName\": \"ACETONE\", \"weight\": null, \"w...</td>\n",
       "      <td>15.0</td>\n",
       "      <td>wt%</td>\n",
       "      <td>Single Needle</td>\n",
       "      <td>22.0</td>\n",
       "      <td>Flat</td>\n",
       "      <td>NaN</td>\n",
       "      <td>12.0</td>\n",
       "      <td>2.0</td>\n",
       "      <td>6.0</td>\n",
       "      <td>23.0</td>\n",
       "      <td>45</td>\n",
       "      <td>True</td>\n",
       "      <td>1346.0</td>\n",
       "      <td>812.0</td>\n",
       "      <td>True</td>\n",
       "    </tr>\n",
       "    <tr>\n",
       "      <th>1</th>\n",
       "      <td>https://doi.org/10.1016/j.jafr.2019.100015</td>\n",
       "      <td>CA</td>\n",
       "      <td>False</td>\n",
       "      <td>ACETONE</td>\n",
       "      <td>[{\"solventName\": \"ACETONE\", \"weight\": null, \"w...</td>\n",
       "      <td>12.0</td>\n",
       "      <td>wt%</td>\n",
       "      <td>Single Needle</td>\n",
       "      <td>22.0</td>\n",
       "      <td>Flat</td>\n",
       "      <td>NaN</td>\n",
       "      <td>16.0</td>\n",
       "      <td>2.0</td>\n",
       "      <td>6.0</td>\n",
       "      <td>23.0</td>\n",
       "      <td>45</td>\n",
       "      <td>True</td>\n",
       "      <td>488.0</td>\n",
       "      <td>221.0</td>\n",
       "      <td>False</td>\n",
       "    </tr>\n",
       "    <tr>\n",
       "      <th>2</th>\n",
       "      <td>https://doi.org/10.1016/j.jafr.2019.100015</td>\n",
       "      <td>CA</td>\n",
       "      <td>False</td>\n",
       "      <td>ACETONE</td>\n",
       "      <td>[{\"solventName\": \"ACETONE\", \"weight\": null, \"w...</td>\n",
       "      <td>15.0</td>\n",
       "      <td>wt%</td>\n",
       "      <td>Single Needle</td>\n",
       "      <td>22.0</td>\n",
       "      <td>Flat</td>\n",
       "      <td>NaN</td>\n",
       "      <td>16.0</td>\n",
       "      <td>2.0</td>\n",
       "      <td>10.0</td>\n",
       "      <td>23.0</td>\n",
       "      <td>45</td>\n",
       "      <td>True</td>\n",
       "      <td>823.0</td>\n",
       "      <td>519.0</td>\n",
       "      <td>False</td>\n",
       "    </tr>\n",
       "    <tr>\n",
       "      <th>3</th>\n",
       "      <td>https://doi.org/10.1016/j.jafr.2019.100015</td>\n",
       "      <td>CA</td>\n",
       "      <td>False</td>\n",
       "      <td>ACETONE</td>\n",
       "      <td>[{\"solventName\": \"ACETONE\", \"weight\": null, \"w...</td>\n",
       "      <td>9.0</td>\n",
       "      <td>wt%</td>\n",
       "      <td>Single Needle</td>\n",
       "      <td>22.0</td>\n",
       "      <td>Flat</td>\n",
       "      <td>NaN</td>\n",
       "      <td>12.0</td>\n",
       "      <td>2.0</td>\n",
       "      <td>6.0</td>\n",
       "      <td>23.0</td>\n",
       "      <td>45</td>\n",
       "      <td>True</td>\n",
       "      <td>452.0</td>\n",
       "      <td>236.0</td>\n",
       "      <td>False</td>\n",
       "    </tr>\n",
       "    <tr>\n",
       "      <th>4</th>\n",
       "      <td>https://doi.org/10.1016/j.jafr.2019.100015</td>\n",
       "      <td>CA</td>\n",
       "      <td>False</td>\n",
       "      <td>ACETONE</td>\n",
       "      <td>[{\"solventName\": \"ACETONE\", \"weight\": null, \"w...</td>\n",
       "      <td>12.0</td>\n",
       "      <td>wt%</td>\n",
       "      <td>Single Needle</td>\n",
       "      <td>22.0</td>\n",
       "      <td>Flat</td>\n",
       "      <td>NaN</td>\n",
       "      <td>12.0</td>\n",
       "      <td>2.0</td>\n",
       "      <td>10.0</td>\n",
       "      <td>23.0</td>\n",
       "      <td>45</td>\n",
       "      <td>True</td>\n",
       "      <td>801.0</td>\n",
       "      <td>382.0</td>\n",
       "      <td>False</td>\n",
       "    </tr>\n",
       "  </tbody>\n",
       "</table>\n",
       "</div>"
      ],
      "text/plain": [
       "                                          doi polymer(s)  is_solvent_blend  \\\n",
       "0  https://doi.org/10.1016/j.jafr.2019.100015         CA             False   \n",
       "1  https://doi.org/10.1016/j.jafr.2019.100015         CA             False   \n",
       "2  https://doi.org/10.1016/j.jafr.2019.100015         CA             False   \n",
       "3  https://doi.org/10.1016/j.jafr.2019.100015         CA             False   \n",
       "4  https://doi.org/10.1016/j.jafr.2019.100015         CA             False   \n",
       "\n",
       "  solvent(s)                                 solvent_components  \\\n",
       "0    ACETONE  [{\"solventName\": \"ACETONE\", \"weight\": null, \"w...   \n",
       "1    ACETONE  [{\"solventName\": \"ACETONE\", \"weight\": null, \"w...   \n",
       "2    ACETONE  [{\"solventName\": \"ACETONE\", \"weight\": null, \"w...   \n",
       "3    ACETONE  [{\"solventName\": \"ACETONE\", \"weight\": null, \"w...   \n",
       "4    ACETONE  [{\"solventName\": \"ACETONE\", \"weight\": null, \"w...   \n",
       "\n",
       "   solution_concentration solution_concentration_unit    needle_type  \\\n",
       "0                    15.0                         wt%  Single Needle   \n",
       "1                    12.0                         wt%  Single Needle   \n",
       "2                    15.0                         wt%  Single Needle   \n",
       "3                     9.0                         wt%  Single Needle   \n",
       "4                    12.0                         wt%  Single Needle   \n",
       "\n",
       "   needle_diameter_g collector_type  rotation_speed_rpm  voltage_kv  \\\n",
       "0               22.0           Flat                 NaN        12.0   \n",
       "1               22.0           Flat                 NaN        16.0   \n",
       "2               22.0           Flat                 NaN        16.0   \n",
       "3               22.0           Flat                 NaN        12.0   \n",
       "4               22.0           Flat                 NaN        12.0   \n",
       "\n",
       "   flow_rate_ml/h  tip_collector_distance_cm  temperature_c humidity_%  \\\n",
       "0             2.0                        6.0           23.0         45   \n",
       "1             2.0                        6.0           23.0         45   \n",
       "2             2.0                       10.0           23.0         45   \n",
       "3             2.0                        6.0           23.0         45   \n",
       "4             2.0                       10.0           23.0         45   \n",
       "\n",
       "   was_formation_stable  fiber_diameter_nm  fiber_diameter_variation_nm  \\\n",
       "0                  True             1346.0                        812.0   \n",
       "1                  True              488.0                        221.0   \n",
       "2                  True              823.0                        519.0   \n",
       "3                  True              452.0                        236.0   \n",
       "4                  True              801.0                        382.0   \n",
       "\n",
       "   tail_observation  \n",
       "0              True  \n",
       "1             False  \n",
       "2             False  \n",
       "3             False  \n",
       "4             False  "
      ]
     },
     "execution_count": 5,
     "metadata": {},
     "output_type": "execute_result"
    }
   ],
   "source": [
    "df = pd.read_csv(\"./data/Dataset.csv\")\n",
    "df.head()"
   ]
  },
  {
   "cell_type": "code",
   "execution_count": 6,
   "id": "b98c45c3",
   "metadata": {},
   "outputs": [],
   "source": [
    "df_pvdf = df[(df[\"polymer(s)\"] == \"PVDF\") & (df[\"collector_type\"] == \"Flat\") & (df[\"was_formation_stable\"] == True)]"
   ]
  },
  {
   "cell_type": "code",
   "execution_count": 7,
   "id": "30fd7891",
   "metadata": {},
   "outputs": [
    {
     "data": {
      "text/plain": [
       "187"
      ]
     },
     "execution_count": 7,
     "metadata": {},
     "output_type": "execute_result"
    }
   ],
   "source": [
    "len(df_pvdf)"
   ]
  },
  {
   "cell_type": "code",
   "execution_count": 8,
   "id": "32f5020e",
   "metadata": {},
   "outputs": [
    {
     "data": {
      "application/vnd.microsoft.datawrangler.viewer.v0+json": {
       "columns": [
        {
         "name": "index",
         "rawType": "object",
         "type": "string"
        },
        {
         "name": "0",
         "rawType": "int64",
         "type": "integer"
        }
       ],
       "ref": "393b8354-f02a-4ca8-9eb6-b8839c74810d",
       "rows": [
        [
         "doi",
         "0"
        ],
        [
         "polymer(s)",
         "0"
        ],
        [
         "is_solvent_blend",
         "0"
        ],
        [
         "solvent(s)",
         "0"
        ],
        [
         "solvent_components",
         "0"
        ],
        [
         "solution_concentration",
         "0"
        ],
        [
         "solution_concentration_unit",
         "0"
        ],
        [
         "needle_type",
         "0"
        ],
        [
         "needle_diameter_g",
         "88"
        ],
        [
         "collector_type",
         "0"
        ],
        [
         "rotation_speed_rpm",
         "187"
        ],
        [
         "voltage_kv",
         "0"
        ],
        [
         "flow_rate_ml/h",
         "0"
        ],
        [
         "tip_collector_distance_cm",
         "0"
        ],
        [
         "temperature_c",
         "21"
        ],
        [
         "humidity_%",
         "0"
        ],
        [
         "was_formation_stable",
         "0"
        ],
        [
         "fiber_diameter_nm",
         "0"
        ],
        [
         "fiber_diameter_variation_nm",
         "187"
        ],
        [
         "tail_observation",
         "0"
        ]
       ],
       "shape": {
        "columns": 1,
        "rows": 20
       }
      },
      "text/plain": [
       "doi                              0\n",
       "polymer(s)                       0\n",
       "is_solvent_blend                 0\n",
       "solvent(s)                       0\n",
       "solvent_components               0\n",
       "solution_concentration           0\n",
       "solution_concentration_unit      0\n",
       "needle_type                      0\n",
       "needle_diameter_g               88\n",
       "collector_type                   0\n",
       "rotation_speed_rpm             187\n",
       "voltage_kv                       0\n",
       "flow_rate_ml/h                   0\n",
       "tip_collector_distance_cm        0\n",
       "temperature_c                   21\n",
       "humidity_%                       0\n",
       "was_formation_stable             0\n",
       "fiber_diameter_nm                0\n",
       "fiber_diameter_variation_nm    187\n",
       "tail_observation                 0\n",
       "dtype: int64"
      ]
     },
     "execution_count": 8,
     "metadata": {},
     "output_type": "execute_result"
    }
   ],
   "source": [
    "df_pvdf.isna().sum()"
   ]
  },
  {
   "cell_type": "code",
   "execution_count": 9,
   "id": "76f33562",
   "metadata": {},
   "outputs": [],
   "source": [
    "X_pvdf = df_pvdf[[\"solution_concentration\", \"tip_collector_distance_cm\", \"voltage_kv\", \"flow_rate_ml/h\", 'needle_diameter_g']]\n",
    "y_pvdf = df_pvdf['fiber_diameter_nm']\n"
   ]
  },
  {
   "cell_type": "code",
   "execution_count": 10,
   "id": "321e0fbc",
   "metadata": {},
   "outputs": [
    {
     "name": "stdout",
     "output_type": "stream",
     "text": [
      "88\n"
     ]
    }
   ],
   "source": [
    "print(df_pvdf['needle_diameter_g'].isna().sum())\n"
   ]
  },
  {
   "cell_type": "code",
   "execution_count": null,
   "id": "6515ad72",
   "metadata": {},
   "outputs": [
    {
     "name": "stdout",
     "output_type": "stream",
     "text": [
      "5-Fold Cross-Validation Results for Random Forest Regression on PVDF:\n",
      "Average RMSE: 274.8819\n",
      "Average MAE: 111.5581\n",
      "Average R² Score: 0.3755\n"
     ]
    },
    {
     "data": {
      "image/png": "[encoded data removed]",
      "text/plain": [
       "<Figure size 800x800 with 1 Axes>"
      ]
     },
     "metadata": {},
     "output_type": "display_data"
    }
   ],
   "source": [
    "kf = KFold(n_splits=5, shuffle=True, random_state=42)\n",
    "\n",
    "mse_list = []\n",
    "rmse_list = []\n",
    "mae_list = []\n",
    "r2_list = []\n",
    "\n",
    "colors = ['blue', 'green', 'orange', 'purple', 'brown']\n",
    "\n",
    "plt.figure(figsize=(8, 8))\n",
    "\n",
    "for fold, (train_index, val_index) in enumerate(kf.split(X_pvdf), 1):\n",
    "    X_train_fold, X_val_fold = X_pvdf.iloc[train_index], X_pvdf.iloc[val_index]\n",
    "    y_train_fold, y_val_fold = y_pvdf.iloc[train_index], y_pvdf.iloc[val_index]\n",
    "\n",
    "    model = RandomForestRegressor(n_estimators=100, random_state=42)\n",
    "    model.fit(X_train_fold, y_train_fold)\n",
    "\n",
    "    y_pred = model.predict(X_val_fold)\n",
    "\n",
    "    mse = mean_squared_error(y_val_fold, y_pred)\n",
    "    rmse = np.sqrt(mse)\n",
    "    mae = mean_absolute_error(y_val_fold, y_pred)\n",
    "    r2 = r2_score(y_val_fold, y_pred)\n",
    "\n",
    "    mse_list.append(mse)\n",
    "    rmse_list.append(rmse)\n",
    "    mae_list.append(mae)\n",
    "    r2_list.append(r2)\n",
    "\n",
    "    plt.scatter(y_val_fold, y_pred, alpha=0.6, color=colors[fold-1], label=f'Fold {fold}')\n",
    "\n",
    "print(\"5-Fold Cross-Validation Results for Random Forest Regression on PVDF:\")\n",
    "print(f\"Average RMSE: {np.mean(rmse_list):.4f}\")\n",
    "print(f\"Average MAE: {np.mean(mae_list):.4f}\")\n",
    "print(f\"Average R² Score: {np.mean(r2_list):.4f}\")\n",
    "\n",
    "min_val = min(X_pvdf.min().min(), y_pvdf.min())\n",
    "max_val = max(X_pvdf.max().max(), y_pvdf.max())\n",
    "plt.plot([min_val, max_val], [min_val, max_val], 'r--', lw=2)\n",
    "\n",
    "plt.xlabel('True Values')\n",
    "plt.ylabel('Predicted Values')\n",
    "plt.title('True vs Predicted Values by Fold (5-Fold CV)')\n",
    "plt.legend()\n",
    "plt.grid(True)\n",
    "plt.show()"
   ]
  },
  {
   "cell_type": "code",
   "execution_count": 12,
   "id": "125a5b68",
   "metadata": {},
   "outputs": [
    {
     "name": "stdout",
     "output_type": "stream",
     "text": [
      "5-Fold Cross-Validation Results for CatBoostRegressor Regression on PVDF:\n",
      "Average RMSE: 231.3818\n",
      "Average MAE: 96.8956\n",
      "Average R² Score: 0.6926\n"
     ]
    },
    {
     "data": {
      "image/png": "[encoded data removed]",
      "text/plain": [
       "<Figure size 600x400 with 1 Axes>"
      ]
     },
     "metadata": {},
     "output_type": "display_data"
    }
   ],
   "source": [
    "kf = KFold(n_splits=5, shuffle=True, random_state=42)\n",
    "\n",
    "mse_list = []\n",
    "rmse_list = []\n",
    "mae_list = []\n",
    "r2_list = []\n",
    "\n",
    "colors = ['blue', 'green', 'orange', 'purple', 'brown']\n",
    "\n",
    "plt.figure(figsize=(6, 4))  \n",
    "\n",
    "for fold, (train_index, val_index) in enumerate(kf.split(X_pvdf), 1):\n",
    "    X_train_fold, X_val_fold = X_pvdf.iloc[train_index], X_pvdf.iloc[val_index]\n",
    "    y_train_fold, y_val_fold = y_pvdf.iloc[train_index], y_pvdf.iloc[val_index]\n",
    "\n",
    "\n",
    "    model = CatBoostRegressor(\n",
    "    iterations=500,\n",
    "    learning_rate=0.05,\n",
    "    depth=6,\n",
    "    random_seed=42,\n",
    "    verbose=False\n",
    ")\n",
    "    model.fit(X_train_fold, y_train_fold)\n",
    "\n",
    "    y_pred = model.predict(X_val_fold)\n",
    "\n",
    "    mse = mean_squared_error(y_val_fold, y_pred)\n",
    "    rmse = np.sqrt(mse)\n",
    "    mae = mean_absolute_error(y_val_fold, y_pred)\n",
    "    r2 = r2_score(y_val_fold, y_pred)\n",
    "\n",
    "    mse_list.append(mse)\n",
    "    rmse_list.append(rmse)\n",
    "    mae_list.append(mae)\n",
    "    r2_list.append(r2)\n",
    "\n",
    "    plt.scatter(y_val_fold, y_pred, alpha=0.6, color=colors[fold-1], label=f'Fold {fold}')\n",
    "\n",
    "print(\"5-Fold Cross-Validation Results for CatBoostRegressor Regression on PVDF:\")\n",
    "print(f\"Average RMSE: {np.mean(rmse_list):.4f}\")\n",
    "print(f\"Average MAE: {np.mean(mae_list):.4f}\")\n",
    "print(f\"Average R² Score: {np.mean(r2_list):.4f}\")\n",
    "\n",
    "min_val = min(X_pvdf.min().min(), y_pvdf.min())\n",
    "max_val = max(X_pvdf.max().max(), y_pvdf.max())\n",
    "plt.plot([min_val, max_val], [min_val, max_val], 'r--', lw=2)\n",
    "\n",
    "plt.xlabel('True Values')\n",
    "plt.ylabel('Predicted Values')\n",
    "plt.title('True vs Predicted Values by Fold (5-Fold CV)')\n",
    "plt.legend()\n",
    "plt.grid(True)\n",
    "plt.show()\n"
   ]
  }
 ],
 "metadata": {
  "kernelspec": {
   "display_name": ".venv",
   "language": "python",
   "name": "python3"
  },
  "language_info": {
   "codemirror_mode": {
    "name": "ipython",
    "version": 3
   },
   "file_extension": ".py",
   "mimetype": "text/x-python",
   "name": "python",
   "nbconvert_exporter": "python",
   "pygments_lexer": "ipython3",
   "version": "3.13.5"
  }
 },
 "nbformat": 4,
 "nbformat_minor": 5
}
