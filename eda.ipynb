{
 "cells": [
  {
   "cell_type": "code",
   "execution_count": 14,
   "id": "c0c82a34",
   "metadata": {},
   "outputs": [],
   "source": [
    "import pandas as pd\n",
    "import matplotlib.pyplot as plt\n",
    "import json"
   ]
  },
  {
   "cell_type": "code",
   "execution_count": 15,
   "id": "fe2a8f24",
   "metadata": {},
   "outputs": [
    {
     "data": {
      "application/vnd.microsoft.datawrangler.viewer.v0+json": {
       "columns": [
        {
         "name": "index",
         "rawType": "int64",
         "type": "integer"
        },
        {
         "name": "doi",
         "rawType": "object",
         "type": "string"
        },
        {
         "name": "polymer(s)",
         "rawType": "object",
         "type": "string"
        },
        {
         "name": "is_solvent_blend",
         "rawType": "bool",
         "type": "boolean"
        },
        {
         "name": "solvent(s)",
         "rawType": "object",
         "type": "string"
        },
        {
         "name": "solvent_components",
         "rawType": "object",
         "type": "string"
        },
        {
         "name": "solution_concentration_wt%",
         "rawType": "float64",
         "type": "float"
        },
        {
         "name": "needle_type",
         "rawType": "object",
         "type": "string"
        },
        {
         "name": "needle_diameter_G",
         "rawType": "float64",
         "type": "float"
        },
        {
         "name": "collector_type",
         "rawType": "object",
         "type": "string"
        },
        {
         "name": "rotation_speed_rpm",
         "rawType": "float64",
         "type": "float"
        },
        {
         "name": "voltage_kv",
         "rawType": "float64",
         "type": "float"
        },
        {
         "name": "flow_rate_ml/h",
         "rawType": "float64",
         "type": "float"
        },
        {
         "name": "tip_collector_distance_cm",
         "rawType": "float64",
         "type": "float"
        },
        {
         "name": "temperature_c",
         "rawType": "float64",
         "type": "float"
        },
        {
         "name": "humidity_%",
         "rawType": "object",
         "type": "string"
        },
        {
         "name": "formation_stable",
         "rawType": "bool",
         "type": "boolean"
        },
        {
         "name": "fiber_diameter_nm",
         "rawType": "float64",
         "type": "float"
        },
        {
         "name": "fiber_diameter_variation_nm",
         "rawType": "float64",
         "type": "float"
        },
        {
         "name": "tail_observation",
         "rawType": "bool",
         "type": "boolean"
        }
       ],
       "ref": "d869c98f-889f-4dbd-8792-10810c3c83f7",
       "rows": [
        [
         "0",
         "https://doi.org/10.1016/j.jafr.2019.100015",
         "CA",
         "False",
         "ACETONE",
         "[{\"solventName\": \"ACETONE\", \"weight\": null, \"weightUnit\": \"gram\", \"volumeRatio\": 100.0, \"volumeRatioUnit\": \"v/v\"}]",
         "15.0",
         "Single Needle",
         "22.0",
         "Flat",
         null,
         "12.0",
         "2.0",
         "6.0",
         "23.0",
         "45",
         "True",
         "1346.0",
         "812.0",
         "True"
        ],
        [
         "1",
         "https://doi.org/10.1016/j.jafr.2019.100015",
         "CA",
         "False",
         "ACETONE",
         "[{\"solventName\": \"ACETONE\", \"weight\": null, \"weightUnit\": \"gram\", \"volumeRatio\": 100.0, \"volumeRatioUnit\": \"v/v\"}]",
         "12.0",
         "Single Needle",
         "22.0",
         "Flat",
         null,
         "16.0",
         "2.0",
         "6.0",
         "23.0",
         "45",
         "True",
         "488.0",
         "221.0",
         "False"
        ],
        [
         "2",
         "https://doi.org/10.1016/j.jafr.2019.100015",
         "CA",
         "False",
         "ACETONE",
         "[{\"solventName\": \"ACETONE\", \"weight\": null, \"weightUnit\": \"gram\", \"volumeRatio\": 100.0, \"volumeRatioUnit\": \"v/v\"}]",
         "15.0",
         "Single Needle",
         "22.0",
         "Flat",
         null,
         "16.0",
         "2.0",
         "10.0",
         "23.0",
         "45",
         "True",
         "823.0",
         "519.0",
         "False"
        ],
        [
         "3",
         "https://doi.org/10.1016/j.jafr.2019.100015",
         "CA",
         "False",
         "ACETONE",
         "[{\"solventName\": \"ACETONE\", \"weight\": null, \"weightUnit\": \"gram\", \"volumeRatio\": 100.0, \"volumeRatioUnit\": \"v/v\"}]",
         "9.0",
         "Single Needle",
         "22.0",
         "Flat",
         null,
         "12.0",
         "2.0",
         "6.0",
         "23.0",
         "45",
         "True",
         "452.0",
         "236.0",
         "False"
        ],
        [
         "4",
         "https://doi.org/10.1016/j.jafr.2019.100015",
         "CA",
         "False",
         "ACETONE",
         "[{\"solventName\": \"ACETONE\", \"weight\": null, \"weightUnit\": \"gram\", \"volumeRatio\": 100.0, \"volumeRatioUnit\": \"v/v\"}]",
         "12.0",
         "Single Needle",
         "22.0",
         "Flat",
         null,
         "12.0",
         "2.0",
         "10.0",
         "23.0",
         "45",
         "True",
         "801.0",
         "382.0",
         "False"
        ]
       ],
       "shape": {
        "columns": 19,
        "rows": 5
       }
      },
      "text/html": [
       "<div>\n",
       "<style scoped>\n",
       "    .dataframe tbody tr th:only-of-type {\n",
       "        vertical-align: middle;\n",
       "    }\n",
       "\n",
       "    .dataframe tbody tr th {\n",
       "        vertical-align: top;\n",
       "    }\n",
       "\n",
       "    .dataframe thead th {\n",
       "        text-align: right;\n",
       "    }\n",
       "</style>\n",
       "<table border=\"1\" class=\"dataframe\">\n",
       "  <thead>\n",
       "    <tr style=\"text-align: right;\">\n",
       "      <th></th>\n",
       "      <th>doi</th>\n",
       "      <th>polymer(s)</th>\n",
       "      <th>is_solvent_blend</th>\n",
       "      <th>solvent(s)</th>\n",
       "      <th>solvent_components</th>\n",
       "      <th>solution_concentration_wt%</th>\n",
       "      <th>needle_type</th>\n",
       "      <th>needle_diameter_G</th>\n",
       "      <th>collector_type</th>\n",
       "      <th>rotation_speed_rpm</th>\n",
       "      <th>voltage_kv</th>\n",
       "      <th>flow_rate_ml/h</th>\n",
       "      <th>tip_collector_distance_cm</th>\n",
       "      <th>temperature_c</th>\n",
       "      <th>humidity_%</th>\n",
       "      <th>formation_stable</th>\n",
       "      <th>fiber_diameter_nm</th>\n",
       "      <th>fiber_diameter_variation_nm</th>\n",
       "      <th>tail_observation</th>\n",
       "    </tr>\n",
       "  </thead>\n",
       "  <tbody>\n",
       "    <tr>\n",
       "      <th>0</th>\n",
       "      <td>https://doi.org/10.1016/j.jafr.2019.100015</td>\n",
       "      <td>CA</td>\n",
       "      <td>False</td>\n",
       "      <td>ACETONE</td>\n",
       "      <td>[{\"solventName\": \"ACETONE\", \"weight\": null, \"w...</td>\n",
       "      <td>15.0</td>\n",
       "      <td>Single Needle</td>\n",
       "      <td>22.0</td>\n",
       "      <td>Flat</td>\n",
       "      <td>NaN</td>\n",
       "      <td>12.0</td>\n",
       "      <td>2.0</td>\n",
       "      <td>6.0</td>\n",
       "      <td>23.0</td>\n",
       "      <td>45</td>\n",
       "      <td>True</td>\n",
       "      <td>1346.0</td>\n",
       "      <td>812.0</td>\n",
       "      <td>True</td>\n",
       "    </tr>\n",
       "    <tr>\n",
       "      <th>1</th>\n",
       "      <td>https://doi.org/10.1016/j.jafr.2019.100015</td>\n",
       "      <td>CA</td>\n",
       "      <td>False</td>\n",
       "      <td>ACETONE</td>\n",
       "      <td>[{\"solventName\": \"ACETONE\", \"weight\": null, \"w...</td>\n",
       "      <td>12.0</td>\n",
       "      <td>Single Needle</td>\n",
       "      <td>22.0</td>\n",
       "      <td>Flat</td>\n",
       "      <td>NaN</td>\n",
       "      <td>16.0</td>\n",
       "      <td>2.0</td>\n",
       "      <td>6.0</td>\n",
       "      <td>23.0</td>\n",
       "      <td>45</td>\n",
       "      <td>True</td>\n",
       "      <td>488.0</td>\n",
       "      <td>221.0</td>\n",
       "      <td>False</td>\n",
       "    </tr>\n",
       "    <tr>\n",
       "      <th>2</th>\n",
       "      <td>https://doi.org/10.1016/j.jafr.2019.100015</td>\n",
       "      <td>CA</td>\n",
       "      <td>False</td>\n",
       "      <td>ACETONE</td>\n",
       "      <td>[{\"solventName\": \"ACETONE\", \"weight\": null, \"w...</td>\n",
       "      <td>15.0</td>\n",
       "      <td>Single Needle</td>\n",
       "      <td>22.0</td>\n",
       "      <td>Flat</td>\n",
       "      <td>NaN</td>\n",
       "      <td>16.0</td>\n",
       "      <td>2.0</td>\n",
       "      <td>10.0</td>\n",
       "      <td>23.0</td>\n",
       "      <td>45</td>\n",
       "      <td>True</td>\n",
       "      <td>823.0</td>\n",
       "      <td>519.0</td>\n",
       "      <td>False</td>\n",
       "    </tr>\n",
       "    <tr>\n",
       "      <th>3</th>\n",
       "      <td>https://doi.org/10.1016/j.jafr.2019.100015</td>\n",
       "      <td>CA</td>\n",
       "      <td>False</td>\n",
       "      <td>ACETONE</td>\n",
       "      <td>[{\"solventName\": \"ACETONE\", \"weight\": null, \"w...</td>\n",
       "      <td>9.0</td>\n",
       "      <td>Single Needle</td>\n",
       "      <td>22.0</td>\n",
       "      <td>Flat</td>\n",
       "      <td>NaN</td>\n",
       "      <td>12.0</td>\n",
       "      <td>2.0</td>\n",
       "      <td>6.0</td>\n",
       "      <td>23.0</td>\n",
       "      <td>45</td>\n",
       "      <td>True</td>\n",
       "      <td>452.0</td>\n",
       "      <td>236.0</td>\n",
       "      <td>False</td>\n",
       "    </tr>\n",
       "    <tr>\n",
       "      <th>4</th>\n",
       "      <td>https://doi.org/10.1016/j.jafr.2019.100015</td>\n",
       "      <td>CA</td>\n",
       "      <td>False</td>\n",
       "      <td>ACETONE</td>\n",
       "      <td>[{\"solventName\": \"ACETONE\", \"weight\": null, \"w...</td>\n",
       "      <td>12.0</td>\n",
       "      <td>Single Needle</td>\n",
       "      <td>22.0</td>\n",
       "      <td>Flat</td>\n",
       "      <td>NaN</td>\n",
       "      <td>12.0</td>\n",
       "      <td>2.0</td>\n",
       "      <td>10.0</td>\n",
       "      <td>23.0</td>\n",
       "      <td>45</td>\n",
       "      <td>True</td>\n",
       "      <td>801.0</td>\n",
       "      <td>382.0</td>\n",
       "      <td>False</td>\n",
       "    </tr>\n",
       "  </tbody>\n",
       "</table>\n",
       "</div>"
      ],
      "text/plain": [
       "                                          doi polymer(s)  is_solvent_blend  \\\n",
       "0  https://doi.org/10.1016/j.jafr.2019.100015         CA             False   \n",
       "1  https://doi.org/10.1016/j.jafr.2019.100015         CA             False   \n",
       "2  https://doi.org/10.1016/j.jafr.2019.100015         CA             False   \n",
       "3  https://doi.org/10.1016/j.jafr.2019.100015         CA             False   \n",
       "4  https://doi.org/10.1016/j.jafr.2019.100015         CA             False   \n",
       "\n",
       "  solvent(s)                                 solvent_components  \\\n",
       "0    ACETONE  [{\"solventName\": \"ACETONE\", \"weight\": null, \"w...   \n",
       "1    ACETONE  [{\"solventName\": \"ACETONE\", \"weight\": null, \"w...   \n",
       "2    ACETONE  [{\"solventName\": \"ACETONE\", \"weight\": null, \"w...   \n",
       "3    ACETONE  [{\"solventName\": \"ACETONE\", \"weight\": null, \"w...   \n",
       "4    ACETONE  [{\"solventName\": \"ACETONE\", \"weight\": null, \"w...   \n",
       "\n",
       "   solution_concentration_wt%    needle_type  needle_diameter_G  \\\n",
       "0                        15.0  Single Needle               22.0   \n",
       "1                        12.0  Single Needle               22.0   \n",
       "2                        15.0  Single Needle               22.0   \n",
       "3                         9.0  Single Needle               22.0   \n",
       "4                        12.0  Single Needle               22.0   \n",
       "\n",
       "  collector_type  rotation_speed_rpm  voltage_kv  flow_rate_ml/h  \\\n",
       "0           Flat                 NaN        12.0             2.0   \n",
       "1           Flat                 NaN        16.0             2.0   \n",
       "2           Flat                 NaN        16.0             2.0   \n",
       "3           Flat                 NaN        12.0             2.0   \n",
       "4           Flat                 NaN        12.0             2.0   \n",
       "\n",
       "   tip_collector_distance_cm  temperature_c humidity_%  formation_stable  \\\n",
       "0                        6.0           23.0         45              True   \n",
       "1                        6.0           23.0         45              True   \n",
       "2                       10.0           23.0         45              True   \n",
       "3                        6.0           23.0         45              True   \n",
       "4                       10.0           23.0         45              True   \n",
       "\n",
       "   fiber_diameter_nm  fiber_diameter_variation_nm  tail_observation  \n",
       "0             1346.0                        812.0              True  \n",
       "1              488.0                        221.0             False  \n",
       "2              823.0                        519.0             False  \n",
       "3              452.0                        236.0             False  \n",
       "4              801.0                        382.0             False  "
      ]
     },
     "execution_count": 15,
     "metadata": {},
     "output_type": "execute_result"
    }
   ],
   "source": [
    "df = pd.read_csv('Dataset.csv', encoding='ISO-8859-1')\n",
    "df.head()\n"
   ]
  },
  {
   "cell_type": "code",
   "execution_count": 16,
   "id": "59bd48a1",
   "metadata": {},
   "outputs": [
    {
     "name": "stdout",
     "output_type": "stream",
     "text": [
      "819\n"
     ]
    }
   ],
   "source": [
    "print(len(df))"
   ]
  },
  {
   "cell_type": "code",
   "execution_count": 17,
   "id": "589b4915",
   "metadata": {},
   "outputs": [
    {
     "name": "stdout",
     "output_type": "stream",
     "text": [
      "['CA' 'PAN' 'PCL' 'PDLLA' 'PET' 'PLA' 'PS' 'PVA' 'PVDF' 'PVP' 'Y_PGA'\n",
      " 'PMMA']\n"
     ]
    }
   ],
   "source": [
    "unique_values = df['polymer(s)'].unique()\n",
    "print(unique_values)\n"
   ]
  },
  {
   "cell_type": "code",
   "execution_count": 18,
   "id": "bd531c70",
   "metadata": {},
   "outputs": [
    {
     "data": {
      "application/vnd.microsoft.datawrangler.viewer.v0+json": {
       "columns": [
        {
         "name": "index",
         "rawType": "object",
         "type": "string"
        },
        {
         "name": "solution_concentration_wt%",
         "rawType": "float64",
         "type": "float"
        },
        {
         "name": "needle_diameter_G",
         "rawType": "float64",
         "type": "float"
        },
        {
         "name": "rotation_speed_rpm",
         "rawType": "float64",
         "type": "float"
        },
        {
         "name": "voltage_kv",
         "rawType": "float64",
         "type": "float"
        },
        {
         "name": "flow_rate_ml/h",
         "rawType": "float64",
         "type": "float"
        },
        {
         "name": "tip_collector_distance_cm",
         "rawType": "float64",
         "type": "float"
        },
        {
         "name": "temperature_c",
         "rawType": "float64",
         "type": "float"
        },
        {
         "name": "fiber_diameter_nm",
         "rawType": "float64",
         "type": "float"
        },
        {
         "name": "fiber_diameter_variation_nm",
         "rawType": "float64",
         "type": "float"
        }
       ],
       "ref": "bb453437-16ec-4017-8c25-3c302b6a5ba2",
       "rows": [
        [
         "count",
         "819.0",
         "509.0",
         "254.0",
         "819.0",
         "819.0",
         "819.0",
         "603.0",
         "787.0",
         "354.0"
        ],
        [
         "mean",
         "15.384969474969473",
         "19.005893909626717",
         "674.8110236220473",
         "17.412820512820513",
         "1.4935164835164836",
         "15.820024420024419",
         "22.344941956882256",
         "553.3570648030495",
         "107.80757062146893"
        ],
        [
         "std",
         "6.029436802821121",
         "4.4657450195094945",
         "792.0906866302487",
         "7.145117366543491",
         "2.797962424997194",
         "6.270510755423138",
         "3.283971967299273",
         "859.2278373638251",
         "130.30564662997713"
        ],
        [
         "min",
         "5.0",
         "7.0",
         "20.0",
         "5.0",
         "0.1",
         "2.0",
         "18.0",
         "55.0",
         "4.0"
        ],
        [
         "25%",
         "10.0",
         "14.0",
         "100.0",
         "14.0",
         "0.3",
         "12.0",
         "20.0",
         "229.28",
         "30.23"
        ],
        [
         "50%",
         "15.0",
         "21.0",
         "180.0",
         "16.0",
         "0.54",
         "15.0",
         "22.0",
         "330.0",
         "48.865"
        ],
        [
         "75%",
         "20.0",
         "22.0",
         "1000.0",
         "20.0",
         "1.08",
         "18.0",
         "23.0",
         "621.0",
         "113.75"
        ],
        [
         "max",
         "30.3",
         "26.0",
         "3000.0",
         "50.0",
         "22.0",
         "50.0",
         "50.0",
         "13080.0",
         "812.0"
        ]
       ],
       "shape": {
        "columns": 9,
        "rows": 8
       }
      },
      "text/html": [
       "<div>\n",
       "<style scoped>\n",
       "    .dataframe tbody tr th:only-of-type {\n",
       "        vertical-align: middle;\n",
       "    }\n",
       "\n",
       "    .dataframe tbody tr th {\n",
       "        vertical-align: top;\n",
       "    }\n",
       "\n",
       "    .dataframe thead th {\n",
       "        text-align: right;\n",
       "    }\n",
       "</style>\n",
       "<table border=\"1\" class=\"dataframe\">\n",
       "  <thead>\n",
       "    <tr style=\"text-align: right;\">\n",
       "      <th></th>\n",
       "      <th>solution_concentration_wt%</th>\n",
       "      <th>needle_diameter_G</th>\n",
       "      <th>rotation_speed_rpm</th>\n",
       "      <th>voltage_kv</th>\n",
       "      <th>flow_rate_ml/h</th>\n",
       "      <th>tip_collector_distance_cm</th>\n",
       "      <th>temperature_c</th>\n",
       "      <th>fiber_diameter_nm</th>\n",
       "      <th>fiber_diameter_variation_nm</th>\n",
       "    </tr>\n",
       "  </thead>\n",
       "  <tbody>\n",
       "    <tr>\n",
       "      <th>count</th>\n",
       "      <td>819.000000</td>\n",
       "      <td>509.000000</td>\n",
       "      <td>254.000000</td>\n",
       "      <td>819.000000</td>\n",
       "      <td>819.000000</td>\n",
       "      <td>819.000000</td>\n",
       "      <td>603.000000</td>\n",
       "      <td>787.000000</td>\n",
       "      <td>354.000000</td>\n",
       "    </tr>\n",
       "    <tr>\n",
       "      <th>mean</th>\n",
       "      <td>15.384969</td>\n",
       "      <td>19.005894</td>\n",
       "      <td>674.811024</td>\n",
       "      <td>17.412821</td>\n",
       "      <td>1.493516</td>\n",
       "      <td>15.820024</td>\n",
       "      <td>22.344942</td>\n",
       "      <td>553.357065</td>\n",
       "      <td>107.807571</td>\n",
       "    </tr>\n",
       "    <tr>\n",
       "      <th>std</th>\n",
       "      <td>6.029437</td>\n",
       "      <td>4.465745</td>\n",
       "      <td>792.090687</td>\n",
       "      <td>7.145117</td>\n",
       "      <td>2.797962</td>\n",
       "      <td>6.270511</td>\n",
       "      <td>3.283972</td>\n",
       "      <td>859.227837</td>\n",
       "      <td>130.305647</td>\n",
       "    </tr>\n",
       "    <tr>\n",
       "      <th>min</th>\n",
       "      <td>5.000000</td>\n",
       "      <td>7.000000</td>\n",
       "      <td>20.000000</td>\n",
       "      <td>5.000000</td>\n",
       "      <td>0.100000</td>\n",
       "      <td>2.000000</td>\n",
       "      <td>18.000000</td>\n",
       "      <td>55.000000</td>\n",
       "      <td>4.000000</td>\n",
       "    </tr>\n",
       "    <tr>\n",
       "      <th>25%</th>\n",
       "      <td>10.000000</td>\n",
       "      <td>14.000000</td>\n",
       "      <td>100.000000</td>\n",
       "      <td>14.000000</td>\n",
       "      <td>0.300000</td>\n",
       "      <td>12.000000</td>\n",
       "      <td>20.000000</td>\n",
       "      <td>229.280000</td>\n",
       "      <td>30.230000</td>\n",
       "    </tr>\n",
       "    <tr>\n",
       "      <th>50%</th>\n",
       "      <td>15.000000</td>\n",
       "      <td>21.000000</td>\n",
       "      <td>180.000000</td>\n",
       "      <td>16.000000</td>\n",
       "      <td>0.540000</td>\n",
       "      <td>15.000000</td>\n",
       "      <td>22.000000</td>\n",
       "      <td>330.000000</td>\n",
       "      <td>48.865000</td>\n",
       "    </tr>\n",
       "    <tr>\n",
       "      <th>75%</th>\n",
       "      <td>20.000000</td>\n",
       "      <td>22.000000</td>\n",
       "      <td>1000.000000</td>\n",
       "      <td>20.000000</td>\n",
       "      <td>1.080000</td>\n",
       "      <td>18.000000</td>\n",
       "      <td>23.000000</td>\n",
       "      <td>621.000000</td>\n",
       "      <td>113.750000</td>\n",
       "    </tr>\n",
       "    <tr>\n",
       "      <th>max</th>\n",
       "      <td>30.300000</td>\n",
       "      <td>26.000000</td>\n",
       "      <td>3000.000000</td>\n",
       "      <td>50.000000</td>\n",
       "      <td>22.000000</td>\n",
       "      <td>50.000000</td>\n",
       "      <td>50.000000</td>\n",
       "      <td>13080.000000</td>\n",
       "      <td>812.000000</td>\n",
       "    </tr>\n",
       "  </tbody>\n",
       "</table>\n",
       "</div>"
      ],
      "text/plain": [
       "       solution_concentration_wt%  needle_diameter_G  rotation_speed_rpm  \\\n",
       "count                  819.000000         509.000000          254.000000   \n",
       "mean                    15.384969          19.005894          674.811024   \n",
       "std                      6.029437           4.465745          792.090687   \n",
       "min                      5.000000           7.000000           20.000000   \n",
       "25%                     10.000000          14.000000          100.000000   \n",
       "50%                     15.000000          21.000000          180.000000   \n",
       "75%                     20.000000          22.000000         1000.000000   \n",
       "max                     30.300000          26.000000         3000.000000   \n",
       "\n",
       "       voltage_kv  flow_rate_ml/h  tip_collector_distance_cm  temperature_c  \\\n",
       "count  819.000000      819.000000                 819.000000     603.000000   \n",
       "mean    17.412821        1.493516                  15.820024      22.344942   \n",
       "std      7.145117        2.797962                   6.270511       3.283972   \n",
       "min      5.000000        0.100000                   2.000000      18.000000   \n",
       "25%     14.000000        0.300000                  12.000000      20.000000   \n",
       "50%     16.000000        0.540000                  15.000000      22.000000   \n",
       "75%     20.000000        1.080000                  18.000000      23.000000   \n",
       "max     50.000000       22.000000                  50.000000      50.000000   \n",
       "\n",
       "       fiber_diameter_nm  fiber_diameter_variation_nm  \n",
       "count         787.000000                   354.000000  \n",
       "mean          553.357065                   107.807571  \n",
       "std           859.227837                   130.305647  \n",
       "min            55.000000                     4.000000  \n",
       "25%           229.280000                    30.230000  \n",
       "50%           330.000000                    48.865000  \n",
       "75%           621.000000                   113.750000  \n",
       "max         13080.000000                   812.000000  "
      ]
     },
     "execution_count": 18,
     "metadata": {},
     "output_type": "execute_result"
    }
   ],
   "source": [
    "df.describe()"
   ]
  },
  {
   "cell_type": "code",
   "execution_count": 19,
   "id": "2a19a83c",
   "metadata": {},
   "outputs": [
    {
     "name": "stdout",
     "output_type": "stream",
     "text": [
      "polymer(s)\n",
      "PVDF     351\n",
      "PVA      150\n",
      "PVP       96\n",
      "PAN       62\n",
      "PS        45\n",
      "PCL       26\n",
      "PMMA      20\n",
      "Y_PGA     18\n",
      "PDLLA     16\n",
      "CA        15\n",
      "PET       12\n",
      "PLA        8\n",
      "Name: count, dtype: int64\n"
     ]
    }
   ],
   "source": [
    "polymer_counts = df['polymer(s)'].value_counts()\n",
    "\n",
    "print(polymer_counts)\n"
   ]
  },
  {
   "cell_type": "code",
   "execution_count": 20,
   "id": "9e03f1e4",
   "metadata": {},
   "outputs": [
    {
     "data": {
      "image/png": "[encoded data removed]",
      "text/plain": [
       "<Figure size 1000x500 with 1 Axes>"
      ]
     },
     "metadata": {},
     "output_type": "display_data"
    }
   ],
   "source": [
    "fig, ax = plt.subplots(figsize=(10\n",
    "                                , 5))\n",
    "\n",
    "polymer_counts.plot(kind='bar', ax=ax, color='steelblue', edgecolor='black')\n",
    "\n",
    "ax.set_xlabel('Polymer Type', fontsize=12, fontweight='bold')\n",
    "ax.set_ylabel('Number of Entries', fontsize=12, fontweight='bold')\n",
    "# ax.set_title('Number', fontsize=14, fontweight='bold')\n",
    "\n",
    "ax.tick_params(axis='x', rotation=90, labelsize=10)\n",
    "ax.tick_params(axis='y', labelsize=10)\n",
    "\n",
    "ax.grid(axis='y', linestyle='--', alpha=0.7)\n",
    "plt.tight_layout()\n",
    "plt.show()\n"
   ]
  },
  {
   "cell_type": "code",
   "execution_count": 21,
   "id": "2597456b",
   "metadata": {},
   "outputs": [
    {
     "name": "stdout",
     "output_type": "stream",
     "text": [
      "solvent(s)\n",
      "DMF                   209\n",
      "DMAC-ACETONE          135\n",
      "WATER                 134\n",
      "DMF-ACETONE           133\n",
      "ETHANOL                66\n",
      "DMSO-ACETONE           36\n",
      "ACETONE                21\n",
      "TFA                    20\n",
      "DISTILLED_WATER        19\n",
      "ACETONE-CHLOROFORM     10\n",
      "TFA-DSM                 9\n",
      "AC-DMF                  8\n",
      "ACETIC_ACID             7\n",
      "CHLOROFORM-ETHANOL      6\n",
      "NMP-ACETONE             6\n",
      "Name: count, dtype: int64\n"
     ]
    }
   ],
   "source": [
    "solvent_counts = df['solvent(s)'].value_counts()\n",
    "\n",
    "print(solvent_counts)\n"
   ]
  },
  {
   "cell_type": "code",
   "execution_count": 22,
   "id": "c5576097",
   "metadata": {},
   "outputs": [
    {
     "data": {
      "image/png": "[encoded data removed]",
      "text/plain": [
       "<Figure size 1000x500 with 1 Axes>"
      ]
     },
     "metadata": {},
     "output_type": "display_data"
    }
   ],
   "source": [
    "\n",
    "fig, ax = plt.subplots(figsize=(10, 5))\n",
    "\n",
    "solvent_counts.plot(kind='bar', ax=ax, color='teal', edgecolor='black')\n",
    "\n",
    "ax.set_xlabel('Solvent Type', fontsize=14, fontweight='bold')\n",
    "ax.set_ylabel('Number of Entries', fontsize=14, fontweight='bold')\n",
    "\n",
    "ax.tick_params(axis='x', rotation=90, labelsize=12)\n",
    "ax.tick_params(axis='y', labelsize=12)\n",
    "\n",
    "ax.grid(axis='y', linestyle='--', alpha=0.7)\n",
    "\n",
    "plt.tight_layout()\n",
    "plt.show()"
   ]
  },
  {
   "cell_type": "code",
   "execution_count": 23,
   "id": "85a64322",
   "metadata": {},
   "outputs": [
    {
     "data": {
      "application/vnd.microsoft.datawrangler.viewer.v0+json": {
       "columns": [
        {
         "name": "index",
         "rawType": "int64",
         "type": "integer"
        },
        {
         "name": "polymer(s)",
         "rawType": "object",
         "type": "string"
        },
        {
         "name": "solvent(s)",
         "rawType": "object",
         "type": "string"
        },
        {
         "name": "count",
         "rawType": "int64",
         "type": "integer"
        }
       ],
       "ref": "b282b1f0-0f3a-4c7e-bfd1-57c814c913db",
       "rows": [
        [
         "0",
         "CA",
         "ACETONE",
         "15"
        ],
        [
         "1",
         "PAN",
         "DMF",
         "62"
        ],
        [
         "4",
         "PCL",
         "DMF",
         "13"
        ],
        [
         "2",
         "PCL",
         "ACETIC_ACID",
         "7"
        ],
        [
         "3",
         "PCL",
         "CHLOROFORM-ETHANOL",
         "6"
        ],
        [
         "6",
         "PDLLA",
         "ACETONE-CHLOROFORM",
         "10"
        ],
        [
         "5",
         "PDLLA",
         "ACETONE",
         "6"
        ],
        [
         "8",
         "PET",
         "TFA-DSM",
         "9"
        ],
        [
         "7",
         "PET",
         "TFA",
         "3"
        ],
        [
         "9",
         "PLA",
         "AC-DMF",
         "8"
        ],
        [
         "10",
         "PMMA",
         "DMF",
         "20"
        ],
        [
         "11",
         "PS",
         "DMF",
         "45"
        ],
        [
         "13",
         "PVA",
         "WATER",
         "131"
        ],
        [
         "12",
         "PVA",
         "DISTILLED_WATER",
         "19"
        ],
        [
         "14",
         "PVDF",
         "DMAC-ACETONE",
         "135"
        ],
        [
         "16",
         "PVDF",
         "DMF-ACETONE",
         "133"
        ],
        [
         "15",
         "PVDF",
         "DMF",
         "41"
        ],
        [
         "17",
         "PVDF",
         "DMSO-ACETONE",
         "36"
        ],
        [
         "18",
         "PVDF",
         "NMP-ACETONE",
         "6"
        ],
        [
         "20",
         "PVP",
         "ETHANOL",
         "66"
        ],
        [
         "19",
         "PVP",
         "DMF",
         "28"
        ],
        [
         "21",
         "PVP",
         "WATER",
         "2"
        ],
        [
         "22",
         "Y_PGA",
         "TFA",
         "17"
        ],
        [
         "23",
         "Y_PGA",
         "WATER",
         "1"
        ]
       ],
       "shape": {
        "columns": 3,
        "rows": 24
       }
      },
      "text/html": [
       "<div>\n",
       "<style scoped>\n",
       "    .dataframe tbody tr th:only-of-type {\n",
       "        vertical-align: middle;\n",
       "    }\n",
       "\n",
       "    .dataframe tbody tr th {\n",
       "        vertical-align: top;\n",
       "    }\n",
       "\n",
       "    .dataframe thead th {\n",
       "        text-align: right;\n",
       "    }\n",
       "</style>\n",
       "<table border=\"1\" class=\"dataframe\">\n",
       "  <thead>\n",
       "    <tr style=\"text-align: right;\">\n",
       "      <th></th>\n",
       "      <th>polymer(s)</th>\n",
       "      <th>solvent(s)</th>\n",
       "      <th>count</th>\n",
       "    </tr>\n",
       "  </thead>\n",
       "  <tbody>\n",
       "    <tr>\n",
       "      <th>0</th>\n",
       "      <td>CA</td>\n",
       "      <td>ACETONE</td>\n",
       "      <td>15</td>\n",
       "    </tr>\n",
       "    <tr>\n",
       "      <th>1</th>\n",
       "      <td>PAN</td>\n",
       "      <td>DMF</td>\n",
       "      <td>62</td>\n",
       "    </tr>\n",
       "    <tr>\n",
       "      <th>4</th>\n",
       "      <td>PCL</td>\n",
       "      <td>DMF</td>\n",
       "      <td>13</td>\n",
       "    </tr>\n",
       "    <tr>\n",
       "      <th>2</th>\n",
       "      <td>PCL</td>\n",
       "      <td>ACETIC_ACID</td>\n",
       "      <td>7</td>\n",
       "    </tr>\n",
       "    <tr>\n",
       "      <th>3</th>\n",
       "      <td>PCL</td>\n",
       "      <td>CHLOROFORM-ETHANOL</td>\n",
       "      <td>6</td>\n",
       "    </tr>\n",
       "    <tr>\n",
       "      <th>6</th>\n",
       "      <td>PDLLA</td>\n",
       "      <td>ACETONE-CHLOROFORM</td>\n",
       "      <td>10</td>\n",
       "    </tr>\n",
       "    <tr>\n",
       "      <th>5</th>\n",
       "      <td>PDLLA</td>\n",
       "      <td>ACETONE</td>\n",
       "      <td>6</td>\n",
       "    </tr>\n",
       "    <tr>\n",
       "      <th>8</th>\n",
       "      <td>PET</td>\n",
       "      <td>TFA-DSM</td>\n",
       "      <td>9</td>\n",
       "    </tr>\n",
       "    <tr>\n",
       "      <th>7</th>\n",
       "      <td>PET</td>\n",
       "      <td>TFA</td>\n",
       "      <td>3</td>\n",
       "    </tr>\n",
       "    <tr>\n",
       "      <th>9</th>\n",
       "      <td>PLA</td>\n",
       "      <td>AC-DMF</td>\n",
       "      <td>8</td>\n",
       "    </tr>\n",
       "    <tr>\n",
       "      <th>10</th>\n",
       "      <td>PMMA</td>\n",
       "      <td>DMF</td>\n",
       "      <td>20</td>\n",
       "    </tr>\n",
       "    <tr>\n",
       "      <th>11</th>\n",
       "      <td>PS</td>\n",
       "      <td>DMF</td>\n",
       "      <td>45</td>\n",
       "    </tr>\n",
       "    <tr>\n",
       "      <th>13</th>\n",
       "      <td>PVA</td>\n",
       "      <td>WATER</td>\n",
       "      <td>131</td>\n",
       "    </tr>\n",
       "    <tr>\n",
       "      <th>12</th>\n",
       "      <td>PVA</td>\n",
       "      <td>DISTILLED_WATER</td>\n",
       "      <td>19</td>\n",
       "    </tr>\n",
       "    <tr>\n",
       "      <th>14</th>\n",
       "      <td>PVDF</td>\n",
       "      <td>DMAC-ACETONE</td>\n",
       "      <td>135</td>\n",
       "    </tr>\n",
       "    <tr>\n",
       "      <th>16</th>\n",
       "      <td>PVDF</td>\n",
       "      <td>DMF-ACETONE</td>\n",
       "      <td>133</td>\n",
       "    </tr>\n",
       "    <tr>\n",
       "      <th>15</th>\n",
       "      <td>PVDF</td>\n",
       "      <td>DMF</td>\n",
       "      <td>41</td>\n",
       "    </tr>\n",
       "    <tr>\n",
       "      <th>17</th>\n",
       "      <td>PVDF</td>\n",
       "      <td>DMSO-ACETONE</td>\n",
       "      <td>36</td>\n",
       "    </tr>\n",
       "    <tr>\n",
       "      <th>18</th>\n",
       "      <td>PVDF</td>\n",
       "      <td>NMP-ACETONE</td>\n",
       "      <td>6</td>\n",
       "    </tr>\n",
       "    <tr>\n",
       "      <th>20</th>\n",
       "      <td>PVP</td>\n",
       "      <td>ETHANOL</td>\n",
       "      <td>66</td>\n",
       "    </tr>\n",
       "    <tr>\n",
       "      <th>19</th>\n",
       "      <td>PVP</td>\n",
       "      <td>DMF</td>\n",
       "      <td>28</td>\n",
       "    </tr>\n",
       "    <tr>\n",
       "      <th>21</th>\n",
       "      <td>PVP</td>\n",
       "      <td>WATER</td>\n",
       "      <td>2</td>\n",
       "    </tr>\n",
       "    <tr>\n",
       "      <th>22</th>\n",
       "      <td>Y_PGA</td>\n",
       "      <td>TFA</td>\n",
       "      <td>17</td>\n",
       "    </tr>\n",
       "    <tr>\n",
       "      <th>23</th>\n",
       "      <td>Y_PGA</td>\n",
       "      <td>WATER</td>\n",
       "      <td>1</td>\n",
       "    </tr>\n",
       "  </tbody>\n",
       "</table>\n",
       "</div>"
      ],
      "text/plain": [
       "   polymer(s)          solvent(s)  count\n",
       "0          CA             ACETONE     15\n",
       "1         PAN                 DMF     62\n",
       "4         PCL                 DMF     13\n",
       "2         PCL         ACETIC_ACID      7\n",
       "3         PCL  CHLOROFORM-ETHANOL      6\n",
       "6       PDLLA  ACETONE-CHLOROFORM     10\n",
       "5       PDLLA             ACETONE      6\n",
       "8         PET             TFA-DSM      9\n",
       "7         PET                 TFA      3\n",
       "9         PLA              AC-DMF      8\n",
       "10       PMMA                 DMF     20\n",
       "11         PS                 DMF     45\n",
       "13        PVA               WATER    131\n",
       "12        PVA     DISTILLED_WATER     19\n",
       "14       PVDF        DMAC-ACETONE    135\n",
       "16       PVDF         DMF-ACETONE    133\n",
       "15       PVDF                 DMF     41\n",
       "17       PVDF        DMSO-ACETONE     36\n",
       "18       PVDF         NMP-ACETONE      6\n",
       "20        PVP             ETHANOL     66\n",
       "19        PVP                 DMF     28\n",
       "21        PVP               WATER      2\n",
       "22      Y_PGA                 TFA     17\n",
       "23      Y_PGA               WATER      1"
      ]
     },
     "execution_count": 23,
     "metadata": {},
     "output_type": "execute_result"
    }
   ],
   "source": [
    "grouped_polymer_solvent_counts = df.groupby(['polymer(s)', 'solvent(s)']).size().reset_index(name='count')\n",
    "\n",
    "grouped_polymer_solvent_counts = grouped_polymer_solvent_counts.sort_values(['polymer(s)', 'count'], ascending=[True, False])\n",
    "\n",
    "grouped_polymer_solvent_counts\n"
   ]
  },
  {
   "cell_type": "code",
   "execution_count": 24,
   "id": "4fc9b022",
   "metadata": {},
   "outputs": [
    {
     "data": {
      "image/png": "[encoded data removed]",
      "text/plain": [
       "<Figure size 1200x800 with 2 Axes>"
      ]
     },
     "metadata": {},
     "output_type": "display_data"
    }
   ],
   "source": [
    "import pandas as pd\n",
    "import seaborn as sns\n",
    "import matplotlib.pyplot as plt\n",
    "\n",
    "# Your grouped data\n",
    "grouped_polymer_solvent_counts = df.groupby(['polymer(s)', 'solvent(s)']).size().reset_index(name='count')\n",
    "grouped_polymer_solvent_counts = grouped_polymer_solvent_counts.sort_values(['polymer(s)', 'count'], ascending=[True, False])\n",
    "\n",
    "# Pivot table for matrix form\n",
    "matrix_data = grouped_polymer_solvent_counts.pivot(index='polymer(s)', columns='solvent(s)', values='count')\n",
    "\n",
    "# Plot heatmap\n",
    "plt.figure(figsize=(12, 8))\n",
    "sns.heatmap(matrix_data, annot=True, fmt='g', cmap='viridis', cbar=True)\n",
    "\n",
    "plt.title('Polymer vs Solvent Count Matrix')\n",
    "plt.ylabel('Polymer(s)')\n",
    "plt.xlabel('Solvent(s)')\n",
    "plt.xticks(rotation=45, ha='right')\n",
    "plt.yticks(rotation=0)\n",
    "plt.tight_layout()\n",
    "plt.show()\n"
   ]
  },
  {
   "cell_type": "code",
   "execution_count": 25,
   "id": "5becbf16",
   "metadata": {},
   "outputs": [
    {
     "name": "stdout",
     "output_type": "stream",
     "text": [
      "   Polymer                                Compatible Solvents\n",
      "0       CA                                            ACETONE\n",
      "1      PAN                                                DMF\n",
      "2      PCL               ACETIC_ACID, CHLOROFORM-ETHANOL, DMF\n",
      "3    PDLLA                        ACETONE, ACETONE-CHLOROFORM\n",
      "4      PET                                       TFA, TFA-DSM\n",
      "5      PLA                                             AC-DMF\n",
      "6     PMMA                                                DMF\n",
      "7       PS                                                DMF\n",
      "8      PVA                             DISTILLED_WATER, WATER\n",
      "9     PVDF  DMAC-ACETONE, DMF, DMF-ACETONE, DMSO-ACETONE, ...\n",
      "10     PVP                                DMF, ETHANOL, WATER\n",
      "11   Y_PGA                                         TFA, WATER\n"
     ]
    }
   ],
   "source": [
    "grouped_polymer_solvent = (\n",
    "    df.groupby('polymer(s)')['solvent(s)']\n",
    "    .apply(lambda x: ', '.join(sorted(set(x))))\n",
    "    .reset_index()\n",
    "    .rename(columns={\n",
    "        'polymer(s)': 'Polymer',\n",
    "        'solvent(s)': 'Compatible Solvents'\n",
    "    })\n",
    ")\n",
    "\n",
    "print(grouped_polymer_solvent)\n"
   ]
  },
  {
   "cell_type": "code",
   "execution_count": null,
   "id": "3a71a483",
   "metadata": {},
   "outputs": [
    {
     "ename": "KeyError",
     "evalue": "\"None of [Index(['voltage', 'flow_rate', 'tip_collector_distance', 'needle_diameter',\\n       'solution_concentration', 'temperature', 'humidity', 'fiber_diameter',\\n       'fiber_diameter_variation'],\\n      dtype='object')] are in the [columns]\"",
     "output_type": "error",
     "traceback": [
      "\u001b[0;31m---------------------------------------------------------------------------\u001b[0m",
      "\u001b[0;31mKeyError\u001b[0m                                  Traceback (most recent call last)",
      "Cell \u001b[0;32mIn[26], line 13\u001b[0m\n\u001b[1;32m     11\u001b[0m \u001b[38;5;28;01mfor\u001b[39;00m polymer \u001b[38;5;129;01min\u001b[39;00m polymers:\n\u001b[1;32m     12\u001b[0m     df_poly \u001b[38;5;241m=\u001b[39m df[df[\u001b[38;5;124m\"\u001b[39m\u001b[38;5;124mpolymer(s)\u001b[39m\u001b[38;5;124m\"\u001b[39m] \u001b[38;5;241m==\u001b[39m polymer]\n\u001b[0;32m---> 13\u001b[0m     desc \u001b[38;5;241m=\u001b[39m \u001b[43mdf_poly\u001b[49m\u001b[43m[\u001b[49m\u001b[43mcolumns_to_describe\u001b[49m\u001b[43m]\u001b[49m\u001b[38;5;241m.\u001b[39mdescribe()\u001b[38;5;241m.\u001b[39mT \n\u001b[1;32m     14\u001b[0m     desc[\u001b[38;5;124m'\u001b[39m\u001b[38;5;124mpolymer\u001b[39m\u001b[38;5;124m'\u001b[39m] \u001b[38;5;241m=\u001b[39m polymer  \u001b[38;5;66;03m# add polymer name as a column\u001b[39;00m\n\u001b[1;32m     15\u001b[0m     summary_list\u001b[38;5;241m.\u001b[39mappend(desc\u001b[38;5;241m.\u001b[39mreset_index())\n",
      "File \u001b[0;32m~/Projects/Cogni-e-SpinDB/.venv/lib/python3.10/site-packages/pandas/core/frame.py:4113\u001b[0m, in \u001b[0;36mDataFrame.__getitem__\u001b[0;34m(self, key)\u001b[0m\n\u001b[1;32m   4111\u001b[0m     \u001b[38;5;28;01mif\u001b[39;00m is_iterator(key):\n\u001b[1;32m   4112\u001b[0m         key \u001b[38;5;241m=\u001b[39m \u001b[38;5;28mlist\u001b[39m(key)\n\u001b[0;32m-> 4113\u001b[0m     indexer \u001b[38;5;241m=\u001b[39m \u001b[38;5;28;43mself\u001b[39;49m\u001b[38;5;241;43m.\u001b[39;49m\u001b[43mcolumns\u001b[49m\u001b[38;5;241;43m.\u001b[39;49m\u001b[43m_get_indexer_strict\u001b[49m\u001b[43m(\u001b[49m\u001b[43mkey\u001b[49m\u001b[43m,\u001b[49m\u001b[43m \u001b[49m\u001b[38;5;124;43m\"\u001b[39;49m\u001b[38;5;124;43mcolumns\u001b[39;49m\u001b[38;5;124;43m\"\u001b[39;49m\u001b[43m)\u001b[49m[\u001b[38;5;241m1\u001b[39m]\n\u001b[1;32m   4115\u001b[0m \u001b[38;5;66;03m# take() does not accept boolean indexers\u001b[39;00m\n\u001b[1;32m   4116\u001b[0m \u001b[38;5;28;01mif\u001b[39;00m \u001b[38;5;28mgetattr\u001b[39m(indexer, \u001b[38;5;124m\"\u001b[39m\u001b[38;5;124mdtype\u001b[39m\u001b[38;5;124m\"\u001b[39m, \u001b[38;5;28;01mNone\u001b[39;00m) \u001b[38;5;241m==\u001b[39m \u001b[38;5;28mbool\u001b[39m:\n",
      "File \u001b[0;32m~/Projects/Cogni-e-SpinDB/.venv/lib/python3.10/site-packages/pandas/core/indexes/base.py:6212\u001b[0m, in \u001b[0;36mIndex._get_indexer_strict\u001b[0;34m(self, key, axis_name)\u001b[0m\n\u001b[1;32m   6209\u001b[0m \u001b[38;5;28;01melse\u001b[39;00m:\n\u001b[1;32m   6210\u001b[0m     keyarr, indexer, new_indexer \u001b[38;5;241m=\u001b[39m \u001b[38;5;28mself\u001b[39m\u001b[38;5;241m.\u001b[39m_reindex_non_unique(keyarr)\n\u001b[0;32m-> 6212\u001b[0m \u001b[38;5;28;43mself\u001b[39;49m\u001b[38;5;241;43m.\u001b[39;49m\u001b[43m_raise_if_missing\u001b[49m\u001b[43m(\u001b[49m\u001b[43mkeyarr\u001b[49m\u001b[43m,\u001b[49m\u001b[43m \u001b[49m\u001b[43mindexer\u001b[49m\u001b[43m,\u001b[49m\u001b[43m \u001b[49m\u001b[43maxis_name\u001b[49m\u001b[43m)\u001b[49m\n\u001b[1;32m   6214\u001b[0m keyarr \u001b[38;5;241m=\u001b[39m \u001b[38;5;28mself\u001b[39m\u001b[38;5;241m.\u001b[39mtake(indexer)\n\u001b[1;32m   6215\u001b[0m \u001b[38;5;28;01mif\u001b[39;00m \u001b[38;5;28misinstance\u001b[39m(key, Index):\n\u001b[1;32m   6216\u001b[0m     \u001b[38;5;66;03m# GH 42790 - Preserve name from an Index\u001b[39;00m\n",
      "File \u001b[0;32m~/Projects/Cogni-e-SpinDB/.venv/lib/python3.10/site-packages/pandas/core/indexes/base.py:6261\u001b[0m, in \u001b[0;36mIndex._raise_if_missing\u001b[0;34m(self, key, indexer, axis_name)\u001b[0m\n\u001b[1;32m   6259\u001b[0m \u001b[38;5;28;01mif\u001b[39;00m nmissing:\n\u001b[1;32m   6260\u001b[0m     \u001b[38;5;28;01mif\u001b[39;00m nmissing \u001b[38;5;241m==\u001b[39m \u001b[38;5;28mlen\u001b[39m(indexer):\n\u001b[0;32m-> 6261\u001b[0m         \u001b[38;5;28;01mraise\u001b[39;00m \u001b[38;5;167;01mKeyError\u001b[39;00m(\u001b[38;5;124mf\u001b[39m\u001b[38;5;124m\"\u001b[39m\u001b[38;5;124mNone of [\u001b[39m\u001b[38;5;132;01m{\u001b[39;00mkey\u001b[38;5;132;01m}\u001b[39;00m\u001b[38;5;124m] are in the [\u001b[39m\u001b[38;5;132;01m{\u001b[39;00maxis_name\u001b[38;5;132;01m}\u001b[39;00m\u001b[38;5;124m]\u001b[39m\u001b[38;5;124m\"\u001b[39m)\n\u001b[1;32m   6263\u001b[0m     not_found \u001b[38;5;241m=\u001b[39m \u001b[38;5;28mlist\u001b[39m(ensure_index(key)[missing_mask\u001b[38;5;241m.\u001b[39mnonzero()[\u001b[38;5;241m0\u001b[39m]]\u001b[38;5;241m.\u001b[39munique())\n\u001b[1;32m   6264\u001b[0m     \u001b[38;5;28;01mraise\u001b[39;00m \u001b[38;5;167;01mKeyError\u001b[39;00m(\u001b[38;5;124mf\u001b[39m\u001b[38;5;124m\"\u001b[39m\u001b[38;5;132;01m{\u001b[39;00mnot_found\u001b[38;5;132;01m}\u001b[39;00m\u001b[38;5;124m not in index\u001b[39m\u001b[38;5;124m\"\u001b[39m)\n",
      "\u001b[0;31mKeyError\u001b[0m: \"None of [Index(['voltage', 'flow_rate', 'tip_collector_distance', 'needle_diameter',\\n       'solution_concentration', 'temperature', 'humidity', 'fiber_diameter',\\n       'fiber_diameter_variation'],\\n      dtype='object')] are in the [columns]\""
     ]
    }
   ],
   "source": [
    "# polymers = [\n",
    "#     \"PVDF\", \"PVA\", \"PVP\", \"PAN\", \"PS\", \"PCL\", \"PMMA\", \"PLA\", \"Y_PGA\", \"PDLLA\",\n",
    "#     \"CA\", \"AROMATIC_PI\", \"PET\", \"GELATIN\", \"PA6\", \"HA\", \"PEO\", \"PVC\", \"NYLON_6\",\n",
    "#     \"PSA\", \"SILK\", \"PVAC\", \"TPU\", \"COLLAGEN\"\n",
    "# ]\n",
    "\n",
    "# columns_to_describe = ['voltage', 'flow_rate', 'tip_collector_distance', 'needle_diameter', 'solution_concentration', 'temperature', 'humidity', 'fiber_diameter', \"fiber_diameter_variation\"]\n",
    "\n",
    "# summary_list = []\n",
    "\n",
    "# for polymer in polymers:\n",
    "#     df_poly = df[df[\"polymer(s)\"] == polymer]\n",
    "#     desc = df_poly[columns_to_describe].describe().T \n",
    "#     desc['polymer'] = polymer  # add polymer name as a column\n",
    "#     summary_list.append(desc.reset_index())\n",
    "\n",
    "# summary_df = pd.concat(summary_list, ignore_index=True)\n",
    "\n",
    "# summary_df = summary_df[['polymer', 'index', 'count', 'mean', 'std', 'min', '25%', '50%', '75%', 'max']]\n",
    "\n",
    "# summary_df"
   ]
  },
  {
   "cell_type": "code",
   "execution_count": null,
   "id": "5c9afd82",
   "metadata": {},
   "outputs": [
    {
     "name": "stdout",
     "output_type": "stream",
     "text": [
      "      polymer                     index  count         mean       std  \\\n",
      "0        PVDF                   voltage  353.0    16.939377  9.143391   \n",
      "1        PVDF                 flow_rate  353.0     1.164363  1.386665   \n",
      "2        PVDF    tip_collector_distance  353.0    17.078187  5.996770   \n",
      "3        PVDF    solution_concentration  353.0    19.264646  4.643181   \n",
      "4        PVDF               temperature  235.0    22.255319  3.750032   \n",
      "..        ...                       ...    ...          ...       ...   \n",
      "163  COLLAGEN    tip_collector_distance    1.0    20.000000       NaN   \n",
      "164  COLLAGEN    solution_concentration    1.0    10.000000       NaN   \n",
      "165  COLLAGEN               temperature    1.0    23.000000       NaN   \n",
      "166  COLLAGEN            fiber_diameter    1.0  1700.000000       NaN   \n",
      "167  COLLAGEN  fiber_diameter_variation    1.0   500.000000       NaN   \n",
      "\n",
      "         min     25%     50%      75%      max  \n",
      "0       5.00    11.5    15.0    20.00    50.00  \n",
      "1       0.15     0.5     0.8     1.23    14.21  \n",
      "2       7.00    15.0    15.0    20.00    35.00  \n",
      "3      10.00    16.0    19.9    20.00    30.30  \n",
      "4      18.00    20.0    21.0    23.00    50.00  \n",
      "..       ...     ...     ...      ...      ...  \n",
      "163    20.00    20.0    20.0    20.00    20.00  \n",
      "164    10.00    10.0    10.0    10.00    10.00  \n",
      "165    23.00    23.0    23.0    23.00    23.00  \n",
      "166  1700.00  1700.0  1700.0  1700.00  1700.00  \n",
      "167   500.00   500.0   500.0   500.00   500.00  \n",
      "\n",
      "[168 rows x 10 columns]\n"
     ]
    }
   ],
   "source": [
    "print(summary_df)"
   ]
  },
  {
   "cell_type": "code",
   "execution_count": null,
   "id": "6860056d",
   "metadata": {},
   "outputs": [
    {
     "data": {
      "image/png": "[encoded data removed]",
      "text/plain": [
       "<Figure size 1000x500 with 1 Axes>"
      ]
     },
     "metadata": {},
     "output_type": "display_data"
    }
   ],
   "source": [
    "import seaborn as sns\n",
    "\n",
    "plt.figure(figsize=(10, 5)) \n",
    "sns.histplot(data=df, x='fiber_diameter', bins=200, kde=False)\n",
    "plt.xlabel('Fiber Diameter (nm)')\n",
    "plt.ylabel('Number of Entries')\n",
    "# plt.title('Histogram of Fiber Diameter Distribution')\n",
    "plt.tight_layout()\n",
    "plt.show()"
   ]
  },
  {
   "cell_type": "code",
   "execution_count": null,
   "id": "bca10b54",
   "metadata": {},
   "outputs": [
    {
     "data": {
      "image/png": "[encoded data removed]",
      "text/plain": [
       "<Figure size 1000x500 with 1 Axes>"
      ]
     },
     "metadata": {},
     "output_type": "display_data"
    }
   ],
   "source": [
    "plt.figure(figsize=(10, 5)) \n",
    "\n",
    "sns.histplot(data=df, x='fiber_diameter_variation', bins=200, kde=False)\n",
    "plt.xlabel('Fiber Diameter Variation (nm)')\n",
    "plt.ylabel('Number of Entries')\n",
    "# plt.title('Histogram of Fiber Diameter Variation Distribution')\n",
    "plt.tight_layout()\n",
    "plt.show()"
   ]
  },
  {
   "cell_type": "code",
   "execution_count": null,
   "id": "8ed3478e",
   "metadata": {},
   "outputs": [],
   "source": [
    "\n",
    "# for polymer in polymers:\n",
    "#     df_poly = df[df[\"polymer(s)\"] == polymer]\n",
    "    \n",
    "#     if df_poly.empty:\n",
    "#         continue  # Skip if no data\n",
    "    \n",
    "#     # Plot histograms for all columns\n",
    "#     df_poly[columns_to_describe].hist(\n",
    "#         bins=20, figsize=(15, 10), layout=(3, 3), edgecolor='black'\n",
    "#     )\n",
    "#     plt.suptitle(f\"Histograms for {polymer}\", fontsize=16)\n",
    "#     plt.tight_layout(rect=[0, 0, 1, 0.95])\n",
    "#     plt.show()"
   ]
  }
 ],
 "metadata": {
  "kernelspec": {
   "display_name": ".venv",
   "language": "python",
   "name": "python3"
  },
  "language_info": {
   "codemirror_mode": {
    "name": "ipython",
    "version": 3
   },
   "file_extension": ".py",
   "mimetype": "text/x-python",
   "name": "python",
   "nbconvert_exporter": "python",
   "pygments_lexer": "ipython3",
   "version": "3.10.12"
  }
 },
 "nbformat": 4,
 "nbformat_minor": 5
}
