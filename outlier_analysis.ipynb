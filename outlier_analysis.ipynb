{
 "cells": [
  {
   "cell_type": "code",
   "execution_count": 1,
   "id": "fa1ffc87",
   "metadata": {},
   "outputs": [],
   "source": [
    "import pandas as pd\n",
    "import matplotlib.pyplot as plt\n",
    "import json"
   ]
  },
  {
   "cell_type": "code",
   "execution_count": 2,
   "id": "462d4e32",
   "metadata": {},
   "outputs": [
    {
     "data": {
      "application/vnd.microsoft.datawrangler.viewer.v0+json": {
       "columns": [
        {
         "name": "index",
         "rawType": "int64",
         "type": "integer"
        },
        {
         "name": "doi",
         "rawType": "object",
         "type": "string"
        },
        {
         "name": "polymer(s)",
         "rawType": "object",
         "type": "string"
        },
        {
         "name": "is_solvent_blend",
         "rawType": "bool",
         "type": "boolean"
        },
        {
         "name": "solvent(s)",
         "rawType": "object",
         "type": "string"
        },
        {
         "name": "solvent_components",
         "rawType": "object",
         "type": "string"
        },
        {
         "name": "solution_concentration_wt%",
         "rawType": "float64",
         "type": "float"
        },
        {
         "name": "needle_type",
         "rawType": "object",
         "type": "string"
        },
        {
         "name": "needle_diameter_G",
         "rawType": "float64",
         "type": "float"
        },
        {
         "name": "collector_type",
         "rawType": "object",
         "type": "string"
        },
        {
         "name": "rotation_speed_rpm",
         "rawType": "float64",
         "type": "float"
        },
        {
         "name": "voltage_kv",
         "rawType": "float64",
         "type": "float"
        },
        {
         "name": "flow_rate_ml/h",
         "rawType": "float64",
         "type": "float"
        },
        {
         "name": "tip_collector_distance_cm",
         "rawType": "float64",
         "type": "float"
        },
        {
         "name": "temperature_c",
         "rawType": "float64",
         "type": "float"
        },
        {
         "name": "humidity_%",
         "rawType": "object",
         "type": "string"
        },
        {
         "name": "formation_stable",
         "rawType": "bool",
         "type": "boolean"
        },
        {
         "name": "fiber_diameter_nm",
         "rawType": "float64",
         "type": "float"
        },
        {
         "name": "fiber_diameter_variation_nm",
         "rawType": "float64",
         "type": "float"
        }
       ],
       "ref": "cdd6005f-308e-4b72-80ab-87b382f2f0da",
       "rows": [
        [
         "0",
         "https://doi.org/10.1016/j.jafr.2019.100015",
         "CA",
         "False",
         "ACETONE",
         "[{\"solventName\": \"ACETONE\", \"weight\": null, \"weightUnit\": \"gram\", \"volumeRatio\": 100.0, \"volumeRatioUnit\": \"v/v\"}]",
         "15.0",
         "Single Needle",
         "22.0",
         "Flat",
         null,
         "12.0",
         "2.0",
         "6.0",
         "23.0",
         "45",
         "True",
         "1346.0",
         "812.0"
        ],
        [
         "1",
         "https://doi.org/10.1016/j.jafr.2019.100015",
         "CA",
         "False",
         "ACETONE",
         "[{\"solventName\": \"ACETONE\", \"weight\": null, \"weightUnit\": \"gram\", \"volumeRatio\": 100.0, \"volumeRatioUnit\": \"v/v\"}]",
         "12.0",
         "Single Needle",
         "22.0",
         "Flat",
         null,
         "16.0",
         "2.0",
         "6.0",
         "23.0",
         "45",
         "True",
         "488.0",
         "221.0"
        ],
        [
         "2",
         "https://doi.org/10.1016/j.jafr.2019.100015",
         "CA",
         "False",
         "ACETONE",
         "[{\"solventName\": \"ACETONE\", \"weight\": null, \"weightUnit\": \"gram\", \"volumeRatio\": 100.0, \"volumeRatioUnit\": \"v/v\"}]",
         "15.0",
         "Single Needle",
         "22.0",
         "Flat",
         null,
         "16.0",
         "2.0",
         "10.0",
         "23.0",
         "45",
         "True",
         "823.0",
         "519.0"
        ],
        [
         "3",
         "https://doi.org/10.1016/j.jafr.2019.100015",
         "CA",
         "False",
         "ACETONE",
         "[{\"solventName\": \"ACETONE\", \"weight\": null, \"weightUnit\": \"gram\", \"volumeRatio\": 100.0, \"volumeRatioUnit\": \"v/v\"}]",
         "9.0",
         "Single Needle",
         "22.0",
         "Flat",
         null,
         "12.0",
         "2.0",
         "6.0",
         "23.0",
         "45",
         "True",
         "452.0",
         "236.0"
        ],
        [
         "4",
         "https://doi.org/10.1016/j.jafr.2019.100015",
         "CA",
         "False",
         "ACETONE",
         "[{\"solventName\": \"ACETONE\", \"weight\": null, \"weightUnit\": \"gram\", \"volumeRatio\": 100.0, \"volumeRatioUnit\": \"v/v\"}]",
         "12.0",
         "Single Needle",
         "22.0",
         "Flat",
         null,
         "12.0",
         "2.0",
         "10.0",
         "23.0",
         "45",
         "True",
         "801.0",
         "382.0"
        ]
       ],
       "shape": {
        "columns": 18,
        "rows": 5
       }
      },
      "text/html": [
       "<div>\n",
       "<style scoped>\n",
       "    .dataframe tbody tr th:only-of-type {\n",
       "        vertical-align: middle;\n",
       "    }\n",
       "\n",
       "    .dataframe tbody tr th {\n",
       "        vertical-align: top;\n",
       "    }\n",
       "\n",
       "    .dataframe thead th {\n",
       "        text-align: right;\n",
       "    }\n",
       "</style>\n",
       "<table border=\"1\" class=\"dataframe\">\n",
       "  <thead>\n",
       "    <tr style=\"text-align: right;\">\n",
       "      <th></th>\n",
       "      <th>doi</th>\n",
       "      <th>polymer(s)</th>\n",
       "      <th>is_solvent_blend</th>\n",
       "      <th>solvent(s)</th>\n",
       "      <th>solvent_components</th>\n",
       "      <th>solution_concentration_wt%</th>\n",
       "      <th>needle_type</th>\n",
       "      <th>needle_diameter_G</th>\n",
       "      <th>collector_type</th>\n",
       "      <th>rotation_speed_rpm</th>\n",
       "      <th>voltage_kv</th>\n",
       "      <th>flow_rate_ml/h</th>\n",
       "      <th>tip_collector_distance_cm</th>\n",
       "      <th>temperature_c</th>\n",
       "      <th>humidity_%</th>\n",
       "      <th>formation_stable</th>\n",
       "      <th>fiber_diameter_nm</th>\n",
       "      <th>fiber_diameter_variation_nm</th>\n",
       "    </tr>\n",
       "  </thead>\n",
       "  <tbody>\n",
       "    <tr>\n",
       "      <th>0</th>\n",
       "      <td>https://doi.org/10.1016/j.jafr.2019.100015</td>\n",
       "      <td>CA</td>\n",
       "      <td>False</td>\n",
       "      <td>ACETONE</td>\n",
       "      <td>[{\"solventName\": \"ACETONE\", \"weight\": null, \"w...</td>\n",
       "      <td>15.0</td>\n",
       "      <td>Single Needle</td>\n",
       "      <td>22.0</td>\n",
       "      <td>Flat</td>\n",
       "      <td>NaN</td>\n",
       "      <td>12.0</td>\n",
       "      <td>2.0</td>\n",
       "      <td>6.0</td>\n",
       "      <td>23.0</td>\n",
       "      <td>45</td>\n",
       "      <td>True</td>\n",
       "      <td>1346.0</td>\n",
       "      <td>812.0</td>\n",
       "    </tr>\n",
       "    <tr>\n",
       "      <th>1</th>\n",
       "      <td>https://doi.org/10.1016/j.jafr.2019.100015</td>\n",
       "      <td>CA</td>\n",
       "      <td>False</td>\n",
       "      <td>ACETONE</td>\n",
       "      <td>[{\"solventName\": \"ACETONE\", \"weight\": null, \"w...</td>\n",
       "      <td>12.0</td>\n",
       "      <td>Single Needle</td>\n",
       "      <td>22.0</td>\n",
       "      <td>Flat</td>\n",
       "      <td>NaN</td>\n",
       "      <td>16.0</td>\n",
       "      <td>2.0</td>\n",
       "      <td>6.0</td>\n",
       "      <td>23.0</td>\n",
       "      <td>45</td>\n",
       "      <td>True</td>\n",
       "      <td>488.0</td>\n",
       "      <td>221.0</td>\n",
       "    </tr>\n",
       "    <tr>\n",
       "      <th>2</th>\n",
       "      <td>https://doi.org/10.1016/j.jafr.2019.100015</td>\n",
       "      <td>CA</td>\n",
       "      <td>False</td>\n",
       "      <td>ACETONE</td>\n",
       "      <td>[{\"solventName\": \"ACETONE\", \"weight\": null, \"w...</td>\n",
       "      <td>15.0</td>\n",
       "      <td>Single Needle</td>\n",
       "      <td>22.0</td>\n",
       "      <td>Flat</td>\n",
       "      <td>NaN</td>\n",
       "      <td>16.0</td>\n",
       "      <td>2.0</td>\n",
       "      <td>10.0</td>\n",
       "      <td>23.0</td>\n",
       "      <td>45</td>\n",
       "      <td>True</td>\n",
       "      <td>823.0</td>\n",
       "      <td>519.0</td>\n",
       "    </tr>\n",
       "    <tr>\n",
       "      <th>3</th>\n",
       "      <td>https://doi.org/10.1016/j.jafr.2019.100015</td>\n",
       "      <td>CA</td>\n",
       "      <td>False</td>\n",
       "      <td>ACETONE</td>\n",
       "      <td>[{\"solventName\": \"ACETONE\", \"weight\": null, \"w...</td>\n",
       "      <td>9.0</td>\n",
       "      <td>Single Needle</td>\n",
       "      <td>22.0</td>\n",
       "      <td>Flat</td>\n",
       "      <td>NaN</td>\n",
       "      <td>12.0</td>\n",
       "      <td>2.0</td>\n",
       "      <td>6.0</td>\n",
       "      <td>23.0</td>\n",
       "      <td>45</td>\n",
       "      <td>True</td>\n",
       "      <td>452.0</td>\n",
       "      <td>236.0</td>\n",
       "    </tr>\n",
       "    <tr>\n",
       "      <th>4</th>\n",
       "      <td>https://doi.org/10.1016/j.jafr.2019.100015</td>\n",
       "      <td>CA</td>\n",
       "      <td>False</td>\n",
       "      <td>ACETONE</td>\n",
       "      <td>[{\"solventName\": \"ACETONE\", \"weight\": null, \"w...</td>\n",
       "      <td>12.0</td>\n",
       "      <td>Single Needle</td>\n",
       "      <td>22.0</td>\n",
       "      <td>Flat</td>\n",
       "      <td>NaN</td>\n",
       "      <td>12.0</td>\n",
       "      <td>2.0</td>\n",
       "      <td>10.0</td>\n",
       "      <td>23.0</td>\n",
       "      <td>45</td>\n",
       "      <td>True</td>\n",
       "      <td>801.0</td>\n",
       "      <td>382.0</td>\n",
       "    </tr>\n",
       "  </tbody>\n",
       "</table>\n",
       "</div>"
      ],
      "text/plain": [
       "                                          doi polymer(s)  is_solvent_blend  \\\n",
       "0  https://doi.org/10.1016/j.jafr.2019.100015         CA             False   \n",
       "1  https://doi.org/10.1016/j.jafr.2019.100015         CA             False   \n",
       "2  https://doi.org/10.1016/j.jafr.2019.100015         CA             False   \n",
       "3  https://doi.org/10.1016/j.jafr.2019.100015         CA             False   \n",
       "4  https://doi.org/10.1016/j.jafr.2019.100015         CA             False   \n",
       "\n",
       "  solvent(s)                                 solvent_components  \\\n",
       "0    ACETONE  [{\"solventName\": \"ACETONE\", \"weight\": null, \"w...   \n",
       "1    ACETONE  [{\"solventName\": \"ACETONE\", \"weight\": null, \"w...   \n",
       "2    ACETONE  [{\"solventName\": \"ACETONE\", \"weight\": null, \"w...   \n",
       "3    ACETONE  [{\"solventName\": \"ACETONE\", \"weight\": null, \"w...   \n",
       "4    ACETONE  [{\"solventName\": \"ACETONE\", \"weight\": null, \"w...   \n",
       "\n",
       "   solution_concentration_wt%    needle_type  needle_diameter_G  \\\n",
       "0                        15.0  Single Needle               22.0   \n",
       "1                        12.0  Single Needle               22.0   \n",
       "2                        15.0  Single Needle               22.0   \n",
       "3                         9.0  Single Needle               22.0   \n",
       "4                        12.0  Single Needle               22.0   \n",
       "\n",
       "  collector_type  rotation_speed_rpm  voltage_kv  flow_rate_ml/h  \\\n",
       "0           Flat                 NaN        12.0             2.0   \n",
       "1           Flat                 NaN        16.0             2.0   \n",
       "2           Flat                 NaN        16.0             2.0   \n",
       "3           Flat                 NaN        12.0             2.0   \n",
       "4           Flat                 NaN        12.0             2.0   \n",
       "\n",
       "   tip_collector_distance_cm  temperature_c humidity_%  formation_stable  \\\n",
       "0                        6.0           23.0         45              True   \n",
       "1                        6.0           23.0         45              True   \n",
       "2                       10.0           23.0         45              True   \n",
       "3                        6.0           23.0         45              True   \n",
       "4                       10.0           23.0         45              True   \n",
       "\n",
       "   fiber_diameter_nm  fiber_diameter_variation_nm  \n",
       "0             1346.0                        812.0  \n",
       "1              488.0                        221.0  \n",
       "2              823.0                        519.0  \n",
       "3              452.0                        236.0  \n",
       "4              801.0                        382.0  "
      ]
     },
     "execution_count": 2,
     "metadata": {},
     "output_type": "execute_result"
    }
   ],
   "source": [
    "df = pd.read_csv('cleaned_dataset.csv', encoding='ISO-8859-1')\n",
    "df.head()\n"
   ]
  },
  {
   "cell_type": "code",
   "execution_count": 4,
   "id": "14072360",
   "metadata": {},
   "outputs": [],
   "source": [
    "polymers = [\n",
    "    \"PVDF\", \"PVA\", \"PVP\", \"PAN\", \"PS\", \"PCL\", \"PMMA\", \"PLA\", \"Y_PGA\", \"PDLLA\",\n",
    "    \"CA\", \"AROMATIC_PI\", \"PET\", \"GELATIN\", \"PA6\", \"HA\", \"PEO\", \"PVC\", \"NYLON_6\",\n",
    "    \"PSA\", \"SILK\", \"PVAC\", \"TPU\", \"COLLAGEN\"\n",
    "]"
   ]
  },
  {
   "cell_type": "code",
   "execution_count": 7,
   "id": "8c0626b5",
   "metadata": {},
   "outputs": [
    {
     "name": "stdout",
     "output_type": "stream",
     "text": [
      "    fiber_diameter_nm  tail_observation\n",
      "0              1346.0              True\n",
      "1               488.0             False\n",
      "2               823.0             False\n",
      "3               452.0             False\n",
      "4               801.0             False\n",
      "5               749.0             False\n",
      "6               666.0             False\n",
      "7               977.0             False\n",
      "8               404.0             False\n",
      "9              1104.0             False\n",
      "10              562.0             False\n",
      "11             1149.0             False\n",
      "12              478.0             False\n",
      "13              756.0             False\n",
      "14              653.0             False\n",
      "15              120.0             False\n",
      "16              197.0             False\n",
      "17              218.0             False\n",
      "18              221.0             False\n",
      "19              225.0             False\n"
     ]
    }
   ],
   "source": [
    "\n",
    "def detect_outliers_iqr(series):\n",
    "    numeric_series = pd.to_numeric(series, errors='coerce').dropna()\n",
    "    if numeric_series.empty:\n",
    "        return pd.Series([False] * len(series), index=series.index)\n",
    "    \n",
    "    Q1 = numeric_series.quantile(0.25)\n",
    "    Q3 = numeric_series.quantile(0.75)\n",
    "    IQR = Q3 - Q1\n",
    "    lower_bound = Q1 - 1.5 * IQR\n",
    "    upper_bound = Q3 + 1.5 * IQR\n",
    "    \n",
    "    numeric_full = pd.to_numeric(series, errors='coerce')\n",
    "    return (numeric_full < lower_bound) | (numeric_full > upper_bound)\n",
    "\n",
    "df['tail_observation'] = detect_outliers_iqr(df['fiber_diameter_nm'])\n",
    "\n",
    "print(df[['fiber_diameter_nm', 'tail_observation']].head(20))"
   ]
  },
  {
   "cell_type": "code",
   "execution_count": 9,
   "id": "517c11e1",
   "metadata": {},
   "outputs": [
    {
     "data": {
      "text/plain": [
       "numpy.bool"
      ]
     },
     "execution_count": 9,
     "metadata": {},
     "output_type": "execute_result"
    }
   ],
   "source": [
    "type(df[\"is_solvent_blend\"][0])"
   ]
  },
  {
   "cell_type": "code",
   "execution_count": 10,
   "id": "210372a7",
   "metadata": {},
   "outputs": [],
   "source": [
    "df.to_csv('Dataset.csv', index=False)"
   ]
  }
 ],
 "metadata": {
  "kernelspec": {
   "display_name": ".venv",
   "language": "python",
   "name": "python3"
  },
  "language_info": {
   "codemirror_mode": {
    "name": "ipython",
    "version": 3
   },
   "file_extension": ".py",
   "mimetype": "text/x-python",
   "name": "python",
   "nbconvert_exporter": "python",
   "pygments_lexer": "ipython3",
   "version": "3.10.12"
  }
 },
 "nbformat": 4,
 "nbformat_minor": 5
}
